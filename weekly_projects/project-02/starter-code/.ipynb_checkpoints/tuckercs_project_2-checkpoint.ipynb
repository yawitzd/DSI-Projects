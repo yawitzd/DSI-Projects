{
 "cells": [
  {
   "cell_type": "markdown",
   "metadata": {
    "focus": true,
    "id": "263eb813-da45-48cf-9a8f-9da76c18e470"
   },
   "source": [
    "# Project 2\n",
    "## Step 1: Exploring your data.\n",
    "\n",
    "##### Load your data in using Pandas and start to explore. Save all of your early exploration code here and include in your final submission."
   ]
  },
  {
   "cell_type": "code",
   "execution_count": 89,
   "metadata": {
    "collapsed": false,
    "focus": false,
    "id": "b733d2fe-6d33-41dd-a3fc-5dfe9d71d91f"
   },
   "outputs": [],
   "source": [
    "import pandas as pd\n",
    "import numpy as np\n",
    "import scipy.stats as stats\n",
    "import string\n",
    "import seaborn as sns\n",
    "import matplotlib.pyplot as plt\n",
    "import pylab as pl\n",
    "%matplotlib inline\n",
    "\n",
    "df = pd.read_csv('../assets/billboard.csv')"
   ]
  },
  {
   "cell_type": "markdown",
   "metadata": {
    "focus": false,
    "id": "94514384-cf79-4e7a-a09b-02cddc91e77c"
   },
   "source": [
    "##### Write a brief description of your data, and any interesting observations you've made thus far. "
   ]
  },
  {
   "cell_type": "markdown",
   "metadata": {
    "collapsed": true,
    "focus": false,
    "id": "33a9e3f0-a29d-4b02-90bd-528bdb44fb78"
   },
   "source": [
    "The data provided above in the Billboard.csv file is an aggregation Billboard music rankings from the aughts. Organized by Artist, information about the track that was on the charts (time, genre) and information about the time on charts (date entering chats, date of highest position and weeks on charts). "
   ]
  },
  {
   "cell_type": "markdown",
   "metadata": {
    "focus": false,
    "id": "888b6223-3bb4-4d91-b753-4867a3a1b281"
   },
   "source": [
    "## Step 2: Clean your data."
   ]
  },
  {
   "cell_type": "markdown",
   "metadata": {
    "focus": false,
    "id": "8a273328-6d9f-4dfc-88f8-a0c18e4d7f90"
   },
   "source": [
    "##### Do some rudimentary cleaning. Rename any columns that are poorly named, shorten any strings that may be too long, fill in any missing values. Explain your rationale for the way you choose to \"impute\" the missing data."
   ]
  },
  {
   "cell_type": "code",
   "execution_count": 90,
   "metadata": {
    "collapsed": false,
    "focus": false,
    "id": "00022458-8edc-4f84-8492-0be04397fa64"
   },
   "outputs": [
    {
     "data": {
      "text/html": [
       "<div>\n",
       "<table border=\"1\" class=\"dataframe\">\n",
       "  <thead>\n",
       "    <tr style=\"text-align: right;\">\n",
       "      <th></th>\n",
       "      <th>year</th>\n",
       "      <th>artist.inverted</th>\n",
       "      <th>track</th>\n",
       "      <th>time</th>\n",
       "      <th>genre</th>\n",
       "      <th>date.entered</th>\n",
       "      <th>date.peaked</th>\n",
       "      <th>x1st.week</th>\n",
       "      <th>x2nd.week</th>\n",
       "      <th>x3rd.week</th>\n",
       "      <th>...</th>\n",
       "      <th>x68th.week</th>\n",
       "      <th>x69th.week</th>\n",
       "      <th>x70th.week</th>\n",
       "      <th>x71st.week</th>\n",
       "      <th>x72nd.week</th>\n",
       "      <th>x73rd.week</th>\n",
       "      <th>x74th.week</th>\n",
       "      <th>x75th.week</th>\n",
       "      <th>x76th.week</th>\n",
       "      <th>weeks_on_charts</th>\n",
       "    </tr>\n",
       "  </thead>\n",
       "  <tbody>\n",
       "    <tr>\n",
       "      <th>0</th>\n",
       "      <td>2000</td>\n",
       "      <td>Destiny's Child</td>\n",
       "      <td>Independent Women Part I</td>\n",
       "      <td>03:38</td>\n",
       "      <td>Rock</td>\n",
       "      <td>2000-09-23</td>\n",
       "      <td>2000-11-18</td>\n",
       "      <td>78</td>\n",
       "      <td>63</td>\n",
       "      <td>49</td>\n",
       "      <td>...</td>\n",
       "      <td>NaN</td>\n",
       "      <td>NaN</td>\n",
       "      <td>NaN</td>\n",
       "      <td>NaN</td>\n",
       "      <td>NaN</td>\n",
       "      <td>NaN</td>\n",
       "      <td>NaN</td>\n",
       "      <td>NaN</td>\n",
       "      <td>NaN</td>\n",
       "      <td>28</td>\n",
       "    </tr>\n",
       "    <tr>\n",
       "      <th>1</th>\n",
       "      <td>2000</td>\n",
       "      <td>Santana</td>\n",
       "      <td>Maria, Maria</td>\n",
       "      <td>04:18</td>\n",
       "      <td>Rock</td>\n",
       "      <td>2000-02-12</td>\n",
       "      <td>2000-04-08</td>\n",
       "      <td>15</td>\n",
       "      <td>8</td>\n",
       "      <td>6</td>\n",
       "      <td>...</td>\n",
       "      <td>NaN</td>\n",
       "      <td>NaN</td>\n",
       "      <td>NaN</td>\n",
       "      <td>NaN</td>\n",
       "      <td>NaN</td>\n",
       "      <td>NaN</td>\n",
       "      <td>NaN</td>\n",
       "      <td>NaN</td>\n",
       "      <td>NaN</td>\n",
       "      <td>26</td>\n",
       "    </tr>\n",
       "    <tr>\n",
       "      <th>2</th>\n",
       "      <td>2000</td>\n",
       "      <td>Savage Garden</td>\n",
       "      <td>I Knew I Loved You</td>\n",
       "      <td>04:07</td>\n",
       "      <td>Rock</td>\n",
       "      <td>1999-10-23</td>\n",
       "      <td>2000-01-29</td>\n",
       "      <td>71</td>\n",
       "      <td>48</td>\n",
       "      <td>43</td>\n",
       "      <td>...</td>\n",
       "      <td>NaN</td>\n",
       "      <td>NaN</td>\n",
       "      <td>NaN</td>\n",
       "      <td>NaN</td>\n",
       "      <td>NaN</td>\n",
       "      <td>NaN</td>\n",
       "      <td>NaN</td>\n",
       "      <td>NaN</td>\n",
       "      <td>NaN</td>\n",
       "      <td>33</td>\n",
       "    </tr>\n",
       "    <tr>\n",
       "      <th>3</th>\n",
       "      <td>2000</td>\n",
       "      <td>Madonna</td>\n",
       "      <td>Music</td>\n",
       "      <td>03:45</td>\n",
       "      <td>Rock</td>\n",
       "      <td>2000-08-12</td>\n",
       "      <td>2000-09-16</td>\n",
       "      <td>41</td>\n",
       "      <td>23</td>\n",
       "      <td>18</td>\n",
       "      <td>...</td>\n",
       "      <td>NaN</td>\n",
       "      <td>NaN</td>\n",
       "      <td>NaN</td>\n",
       "      <td>NaN</td>\n",
       "      <td>NaN</td>\n",
       "      <td>NaN</td>\n",
       "      <td>NaN</td>\n",
       "      <td>NaN</td>\n",
       "      <td>NaN</td>\n",
       "      <td>24</td>\n",
       "    </tr>\n",
       "    <tr>\n",
       "      <th>4</th>\n",
       "      <td>2000</td>\n",
       "      <td>Christina Aguilera</td>\n",
       "      <td>Come On Over Baby (All I Want Is You)</td>\n",
       "      <td>03:38</td>\n",
       "      <td>Rock</td>\n",
       "      <td>2000-08-05</td>\n",
       "      <td>2000-10-14</td>\n",
       "      <td>57</td>\n",
       "      <td>47</td>\n",
       "      <td>45</td>\n",
       "      <td>...</td>\n",
       "      <td>NaN</td>\n",
       "      <td>NaN</td>\n",
       "      <td>NaN</td>\n",
       "      <td>NaN</td>\n",
       "      <td>NaN</td>\n",
       "      <td>NaN</td>\n",
       "      <td>NaN</td>\n",
       "      <td>NaN</td>\n",
       "      <td>NaN</td>\n",
       "      <td>21</td>\n",
       "    </tr>\n",
       "  </tbody>\n",
       "</table>\n",
       "<p>5 rows × 84 columns</p>\n",
       "</div>"
      ],
      "text/plain": [
       "   year     artist.inverted                                  track   time  \\\n",
       "0  2000     Destiny's Child               Independent Women Part I  03:38   \n",
       "1  2000             Santana                           Maria, Maria  04:18   \n",
       "2  2000       Savage Garden                     I Knew I Loved You  04:07   \n",
       "3  2000             Madonna                                  Music  03:45   \n",
       "4  2000  Christina Aguilera  Come On Over Baby (All I Want Is You)  03:38   \n",
       "\n",
       "  genre date.entered date.peaked  x1st.week x2nd.week x3rd.week  \\\n",
       "0  Rock   2000-09-23  2000-11-18         78        63        49   \n",
       "1  Rock   2000-02-12  2000-04-08         15         8         6   \n",
       "2  Rock   1999-10-23  2000-01-29         71        48        43   \n",
       "3  Rock   2000-08-12  2000-09-16         41        23        18   \n",
       "4  Rock   2000-08-05  2000-10-14         57        47        45   \n",
       "\n",
       "        ...       x68th.week x69th.week x70th.week x71st.week x72nd.week  \\\n",
       "0       ...              NaN        NaN        NaN        NaN        NaN   \n",
       "1       ...              NaN        NaN        NaN        NaN        NaN   \n",
       "2       ...              NaN        NaN        NaN        NaN        NaN   \n",
       "3       ...              NaN        NaN        NaN        NaN        NaN   \n",
       "4       ...              NaN        NaN        NaN        NaN        NaN   \n",
       "\n",
       "  x73rd.week x74th.week x75th.week x76th.week weeks_on_charts  \n",
       "0        NaN        NaN        NaN        NaN              28  \n",
       "1        NaN        NaN        NaN        NaN              26  \n",
       "2        NaN        NaN        NaN        NaN              33  \n",
       "3        NaN        NaN        NaN        NaN              24  \n",
       "4        NaN        NaN        NaN        NaN              21  \n",
       "\n",
       "[5 rows x 84 columns]"
      ]
     },
     "execution_count": 90,
     "metadata": {},
     "output_type": "execute_result"
    }
   ],
   "source": [
    "## Fixing artist names so that they are in order and look clean ##\n",
    "\n",
    "def nameswitch(value):\n",
    "   if \",\" in value:\n",
    "       for i in range(len(value)):\n",
    "           if value[i] == \",\":\n",
    "               return value[i+2:len(value)] + \" \" + value[:i] \n",
    "   else:\n",
    "       return value\n",
    "\n",
    "df['artist.inverted'] = df['artist.inverted'].to_frame().applymap(nameswitch)\n",
    "\n",
    "## Fixing dates so thay they are in 'datetime' formatting ##\n",
    "\n",
    "df['date.entered'] = pd.to_datetime(df['date.entered'])\n",
    "df['date.peaked'] = pd.to_datetime(df['date.peaked'])\n",
    "\n",
    "## Fixing times so they are more readable as track lengths ##\n",
    "\n",
    "def timeswitch(value):\n",
    "    return '0' + value[0] + ':' + value[2:4]\n",
    "           \n",
    "df['time'] = df['time'].to_frame().applymap(timeswitch)\n",
    "\n",
    "## Replacing all * with np.nan values ##\n",
    "\n",
    "def replace_null(value):\n",
    "    if value == '*':\n",
    "        return np.nan\n",
    "    else:\n",
    "        return value\n",
    "    \n",
    "df = df.applymap(replace_null)\n",
    "\n",
    "## Counting weeks in charts ##\n",
    "\n",
    "def countweeks(n):\n",
    "    weeks = n.value_counts().sum()\n",
    "    return weeks\n",
    "\n",
    "df['weeks_on_charts'] = df.iloc[:,7:].apply(countweeks, axis=1)\n",
    "\n",
    "df.head()"
   ]
  },
  {
   "cell_type": "code",
   "execution_count": 91,
   "metadata": {
    "collapsed": false
   },
   "outputs": [
    {
     "data": {
      "text/plain": [
       "0      03:38\n",
       "1      04:18\n",
       "2      04:07\n",
       "3      03:45\n",
       "4      03:38\n",
       "5      04:17\n",
       "6      04:31\n",
       "7      03:36\n",
       "8      03:52\n",
       "9      04:25\n",
       "10     03:10\n",
       "11     03:18\n",
       "12     04:01\n",
       "13     03:52\n",
       "14     04:03\n",
       "15     04:12\n",
       "16     04:14\n",
       "17     04:04\n",
       "18     03:50\n",
       "19     03:43\n",
       "20     04:21\n",
       "21     03:50\n",
       "22     03:24\n",
       "23     03:48\n",
       "24     03:53\n",
       "25     04:05\n",
       "26     04:00\n",
       "27     04:16\n",
       "28     04:57\n",
       "29     04:34\n",
       "       ...  \n",
       "287    03:15\n",
       "288    03:44\n",
       "289    03:48\n",
       "290    04:08\n",
       "291    04:11\n",
       "292    03:54\n",
       "293    04:02\n",
       "294    04:10\n",
       "295    03:47\n",
       "296    03:23\n",
       "297    04:14\n",
       "298    03:46\n",
       "299    05:10\n",
       "300    04:43\n",
       "301    04:01\n",
       "302    02:58\n",
       "303    04:17\n",
       "304    03:44\n",
       "305    04:16\n",
       "306    05:02\n",
       "307    04:02\n",
       "308    04:24\n",
       "309    04:06\n",
       "310    04:00\n",
       "311    03:33\n",
       "312    03:04\n",
       "313    03:58\n",
       "314    03:30\n",
       "315    03:58\n",
       "316    03:22\n",
       "Name: time, dtype: object"
      ]
     },
     "execution_count": 91,
     "metadata": {},
     "output_type": "execute_result"
    }
   ],
   "source": [
    "df['time']"
   ]
  },
  {
   "cell_type": "markdown",
   "metadata": {
    "focus": false,
    "id": "604ee5d7-10ed-4d14-9f86-16a6b240c00d"
   },
   "source": [
    "##### Using Pandas' built in `melt` function, pivot the weekly ranking data to be long rather than wide. As a result, you will have removed the 72 'week' columns and replace it with two: Week and Ranking. There will now be multiple entries for each song, one for each week on the Billboard rankings."
   ]
  },
  {
   "cell_type": "code",
   "execution_count": 84,
   "metadata": {
    "collapsed": false,
    "scrolled": true
   },
   "outputs": [
    {
     "data": {
      "text/html": [
       "<div>\n",
       "<table border=\"1\" class=\"dataframe\">\n",
       "  <thead>\n",
       "    <tr style=\"text-align: right;\">\n",
       "      <th></th>\n",
       "      <th>artist.inverted</th>\n",
       "      <th>track</th>\n",
       "      <th>genre</th>\n",
       "      <th>week</th>\n",
       "      <th>rank</th>\n",
       "    </tr>\n",
       "  </thead>\n",
       "  <tbody>\n",
       "    <tr>\n",
       "      <th>47</th>\n",
       "      <td>Nelly</td>\n",
       "      <td>(Hot S**t) Country Grammar</td>\n",
       "      <td>Rap</td>\n",
       "      <td>1</td>\n",
       "      <td>100</td>\n",
       "    </tr>\n",
       "    <tr>\n",
       "      <th>364</th>\n",
       "      <td>Nelly</td>\n",
       "      <td>(Hot S**t) Country Grammar</td>\n",
       "      <td>Rap</td>\n",
       "      <td>2</td>\n",
       "      <td>99</td>\n",
       "    </tr>\n",
       "    <tr>\n",
       "      <th>681</th>\n",
       "      <td>Nelly</td>\n",
       "      <td>(Hot S**t) Country Grammar</td>\n",
       "      <td>Rap</td>\n",
       "      <td>3</td>\n",
       "      <td>96</td>\n",
       "    </tr>\n",
       "    <tr>\n",
       "      <th>998</th>\n",
       "      <td>Nelly</td>\n",
       "      <td>(Hot S**t) Country Grammar</td>\n",
       "      <td>Rap</td>\n",
       "      <td>4</td>\n",
       "      <td>76</td>\n",
       "    </tr>\n",
       "    <tr>\n",
       "      <th>1315</th>\n",
       "      <td>Nelly</td>\n",
       "      <td>(Hot S**t) Country Grammar</td>\n",
       "      <td>Rap</td>\n",
       "      <td>5</td>\n",
       "      <td>55</td>\n",
       "    </tr>\n",
       "  </tbody>\n",
       "</table>\n",
       "</div>"
      ],
      "text/plain": [
       "     artist.inverted                       track genre  week  rank\n",
       "47             Nelly  (Hot S**t) Country Grammar   Rap     1   100\n",
       "364            Nelly  (Hot S**t) Country Grammar   Rap     2    99\n",
       "681            Nelly  (Hot S**t) Country Grammar   Rap     3    96\n",
       "998            Nelly  (Hot S**t) Country Grammar   Rap     4    76\n",
       "1315           Nelly  (Hot S**t) Country Grammar   Rap     5    55"
      ]
     },
     "execution_count": 84,
     "metadata": {},
     "output_type": "execute_result"
    }
   ],
   "source": [
    "## Melting the face off of my data ##\n",
    "\n",
    "weekly_rankings = pd.melt(df, id_vars=['artist.inverted','track', 'genre'], value_vars=['x1st.week', 'x2nd.week',\n",
    "       u'x3rd.week', u'x4th.week', u'x5th.week', u'x6th.week', u'x7th.week',\n",
    "       u'x8th.week', u'x9th.week', u'x10th.week', u'x11th.week', u'x12th.week',\n",
    "       u'x13th.week', u'x14th.week', u'x15th.week', u'x16th.week',\n",
    "       u'x17th.week', u'x18th.week', u'x19th.week', u'x20th.week',\n",
    "       u'x21st.week', u'x22nd.week', u'x23rd.week', u'x24th.week',\n",
    "       u'x25th.week', u'x26th.week', u'x27th.week', u'x28th.week',\n",
    "       u'x29th.week', u'x30th.week', u'x31st.week', u'x32nd.week',\n",
    "       u'x33rd.week', u'x34th.week', u'x35th.week', u'x36th.week',\n",
    "       u'x37th.week', u'x38th.week', u'x39th.week', u'x40th.week',\n",
    "       u'x41st.week', u'x42nd.week', u'x43rd.week', u'x44th.week',\n",
    "       u'x45th.week', u'x46th.week', u'x47th.week', u'x48th.week',\n",
    "       u'x49th.week', u'x50th.week', u'x51st.week', u'x52nd.week',\n",
    "       u'x53rd.week', u'x54th.week', u'x55th.week', u'x56th.week',\n",
    "       u'x57th.week', u'x58th.week', u'x59th.week', u'x60th.week',\n",
    "       u'x61st.week', u'x62nd.week', u'x63rd.week', u'x64th.week',\n",
    "       u'x65th.week', u'x66th.week', u'x67th.week', u'x68th.week',\n",
    "       u'x69th.week', u'x70th.week', u'x71st.week', u'x72nd.week',\n",
    "       u'x73rd.week', u'x74th.week', u'x75th.week', u'x76th.week'], var_name='week', value_name='rank')\n",
    "\n",
    "## changing the name of Weeks so they are easier to organize ##\n",
    "\n",
    "def weekfunc(value):\n",
    "    if value[2] in '0123456789':\n",
    "        return value[1:3]\n",
    "    else: return value[1]\n",
    "    \n",
    "## changing datatypes ##     \n",
    "    \n",
    "weekly_rankings['week'] = weekly_rankings['week'].apply(weekfunc)\n",
    "weekly_rankings = weekly_rankings.dropna()\n",
    "weekly_rankings['week'] = weekly_rankings['week'].astype(int)\n",
    "weekly_rankings['rank'] = weekly_rankings['rank'].astype(int)\n",
    "weekly_rankings = weekly_rankings.sort_values(['track', 'week'])\n",
    "\n",
    "weekly_rankings.head()"
   ]
  },
  {
   "cell_type": "code",
   "execution_count": null,
   "metadata": {
    "collapsed": true
   },
   "outputs": [],
   "source": [
    "## look at avg position and length on chart for songs that are over / under 4 min "
   ]
  },
  {
   "cell_type": "code",
   "execution_count": 95,
   "metadata": {
    "collapsed": false
   },
   "outputs": [
    {
     "data": {
      "text/html": [
       "<div>\n",
       "<table border=\"1\" class=\"dataframe\">\n",
       "  <thead>\n",
       "    <tr>\n",
       "      <th></th>\n",
       "      <th>mean</th>\n",
       "      <th>amax</th>\n",
       "      <th>amin</th>\n",
       "    </tr>\n",
       "    <tr>\n",
       "      <th></th>\n",
       "      <th>rank</th>\n",
       "      <th>rank</th>\n",
       "      <th>rank</th>\n",
       "    </tr>\n",
       "    <tr>\n",
       "      <th>genre</th>\n",
       "      <th></th>\n",
       "      <th></th>\n",
       "      <th></th>\n",
       "    </tr>\n",
       "  </thead>\n",
       "  <tbody>\n",
       "    <tr>\n",
       "      <th>Country</th>\n",
       "      <td>61.687500</td>\n",
       "      <td>100</td>\n",
       "      <td>1</td>\n",
       "    </tr>\n",
       "    <tr>\n",
       "      <th>Electronica</th>\n",
       "      <td>62.847222</td>\n",
       "      <td>98</td>\n",
       "      <td>6</td>\n",
       "    </tr>\n",
       "    <tr>\n",
       "      <th>Gospel</th>\n",
       "      <td>67.750000</td>\n",
       "      <td>89</td>\n",
       "      <td>57</td>\n",
       "    </tr>\n",
       "    <tr>\n",
       "      <th>Jazz</th>\n",
       "      <td>51.800000</td>\n",
       "      <td>89</td>\n",
       "      <td>7</td>\n",
       "    </tr>\n",
       "    <tr>\n",
       "      <th>Latin</th>\n",
       "      <td>47.653179</td>\n",
       "      <td>100</td>\n",
       "      <td>1</td>\n",
       "    </tr>\n",
       "    <tr>\n",
       "      <th>Pop</th>\n",
       "      <td>54.963504</td>\n",
       "      <td>100</td>\n",
       "      <td>5</td>\n",
       "    </tr>\n",
       "    <tr>\n",
       "      <th>R &amp; B</th>\n",
       "      <td>85.581818</td>\n",
       "      <td>100</td>\n",
       "      <td>62</td>\n",
       "    </tr>\n",
       "    <tr>\n",
       "      <th>R&amp;B</th>\n",
       "      <td>62.839806</td>\n",
       "      <td>100</td>\n",
       "      <td>14</td>\n",
       "    </tr>\n",
       "    <tr>\n",
       "      <th>Rap</th>\n",
       "      <td>56.236559</td>\n",
       "      <td>100</td>\n",
       "      <td>2</td>\n",
       "    </tr>\n",
       "    <tr>\n",
       "      <th>Reggae</th>\n",
       "      <td>72.400000</td>\n",
       "      <td>95</td>\n",
       "      <td>54</td>\n",
       "    </tr>\n",
       "    <tr>\n",
       "      <th>Rock</th>\n",
       "      <td>46.595037</td>\n",
       "      <td>100</td>\n",
       "      <td>1</td>\n",
       "    </tr>\n",
       "    <tr>\n",
       "      <th>Rock'n'roll</th>\n",
       "      <td>32.648649</td>\n",
       "      <td>100</td>\n",
       "      <td>1</td>\n",
       "    </tr>\n",
       "  </tbody>\n",
       "</table>\n",
       "</div>"
      ],
      "text/plain": [
       "                  mean amax amin\n",
       "                  rank rank rank\n",
       "genre                           \n",
       "Country      61.687500  100    1\n",
       "Electronica  62.847222   98    6\n",
       "Gospel       67.750000   89   57\n",
       "Jazz         51.800000   89    7\n",
       "Latin        47.653179  100    1\n",
       "Pop          54.963504  100    5\n",
       "R & B        85.581818  100   62\n",
       "R&B          62.839806  100   14\n",
       "Rap          56.236559  100    2\n",
       "Reggae       72.400000   95   54\n",
       "Rock         46.595037  100    1\n",
       "Rock'n'roll  32.648649  100    1"
      ]
     },
     "execution_count": 95,
     "metadata": {},
     "output_type": "execute_result"
    }
   ],
   "source": [
    "## make pivot table showing Genre by Rank\n",
    "\n",
    "pd.pivot_table(weekly_rankings, index=['genre'], values=['rank'], aggfunc=[np.mean,np.max, np.min])"
   ]
  },
  {
   "cell_type": "code",
   "execution_count": 86,
   "metadata": {
    "collapsed": false
   },
   "outputs": [
    {
     "data": {
      "text/html": [
       "<div>\n",
       "<table border=\"1\" class=\"dataframe\">\n",
       "  <thead>\n",
       "    <tr>\n",
       "      <th></th>\n",
       "      <th>mean</th>\n",
       "      <th>amax</th>\n",
       "      <th>amin</th>\n",
       "    </tr>\n",
       "    <tr>\n",
       "      <th></th>\n",
       "      <th>weeks_on_charts</th>\n",
       "      <th>weeks_on_charts</th>\n",
       "      <th>weeks_on_charts</th>\n",
       "    </tr>\n",
       "    <tr>\n",
       "      <th>genre</th>\n",
       "      <th></th>\n",
       "      <th></th>\n",
       "      <th></th>\n",
       "    </tr>\n",
       "  </thead>\n",
       "  <tbody>\n",
       "    <tr>\n",
       "      <th>Country</th>\n",
       "      <td>17.216216</td>\n",
       "      <td>56</td>\n",
       "      <td>3</td>\n",
       "    </tr>\n",
       "    <tr>\n",
       "      <th>Electronica</th>\n",
       "      <td>19.000000</td>\n",
       "      <td>21</td>\n",
       "      <td>13</td>\n",
       "    </tr>\n",
       "    <tr>\n",
       "      <th>Gospel</th>\n",
       "      <td>21.000000</td>\n",
       "      <td>21</td>\n",
       "      <td>21</td>\n",
       "    </tr>\n",
       "    <tr>\n",
       "      <th>Jazz</th>\n",
       "      <td>6.000000</td>\n",
       "      <td>6</td>\n",
       "      <td>6</td>\n",
       "    </tr>\n",
       "    <tr>\n",
       "      <th>Latin</th>\n",
       "      <td>20.222222</td>\n",
       "      <td>33</td>\n",
       "      <td>6</td>\n",
       "    </tr>\n",
       "    <tr>\n",
       "      <th>Pop</th>\n",
       "      <td>16.222222</td>\n",
       "      <td>30</td>\n",
       "      <td>4</td>\n",
       "    </tr>\n",
       "    <tr>\n",
       "      <th>R &amp; B</th>\n",
       "      <td>6.500000</td>\n",
       "      <td>11</td>\n",
       "      <td>2</td>\n",
       "    </tr>\n",
       "    <tr>\n",
       "      <th>R&amp;B</th>\n",
       "      <td>16.846154</td>\n",
       "      <td>21</td>\n",
       "      <td>12</td>\n",
       "    </tr>\n",
       "    <tr>\n",
       "      <th>Rap</th>\n",
       "      <td>15.431034</td>\n",
       "      <td>54</td>\n",
       "      <td>2</td>\n",
       "    </tr>\n",
       "    <tr>\n",
       "      <th>Reggae</th>\n",
       "      <td>16.000000</td>\n",
       "      <td>16</td>\n",
       "      <td>16</td>\n",
       "    </tr>\n",
       "    <tr>\n",
       "      <th>Rock</th>\n",
       "      <td>18.213592</td>\n",
       "      <td>54</td>\n",
       "      <td>2</td>\n",
       "    </tr>\n",
       "    <tr>\n",
       "      <th>Rock'n'roll</th>\n",
       "      <td>24.941176</td>\n",
       "      <td>58</td>\n",
       "      <td>5</td>\n",
       "    </tr>\n",
       "  </tbody>\n",
       "</table>\n",
       "</div>"
      ],
      "text/plain": [
       "                       mean            amax            amin\n",
       "            weeks_on_charts weeks_on_charts weeks_on_charts\n",
       "genre                                                      \n",
       "Country           17.216216              56               3\n",
       "Electronica       19.000000              21              13\n",
       "Gospel            21.000000              21              21\n",
       "Jazz               6.000000               6               6\n",
       "Latin             20.222222              33               6\n",
       "Pop               16.222222              30               4\n",
       "R & B              6.500000              11               2\n",
       "R&B               16.846154              21              12\n",
       "Rap               15.431034              54               2\n",
       "Reggae            16.000000              16              16\n",
       "Rock              18.213592              54               2\n",
       "Rock'n'roll       24.941176              58               5"
      ]
     },
     "execution_count": 86,
     "metadata": {},
     "output_type": "execute_result"
    }
   ],
   "source": [
    "## make table showing genre by avg 'weeksincharts' \n",
    "\n",
    "pd.pivot_table(df, index=['genre'], values=['weeks_on_charts'], aggfunc=[np.mean,np.max, np.min])"
   ]
  },
  {
   "cell_type": "markdown",
   "metadata": {
    "focus": false,
    "id": "2023c5a8-1f4e-4d83-9a52-c41a5090af74"
   },
   "source": [
    "## Step 3: Visualize your data."
   ]
  },
  {
   "cell_type": "markdown",
   "metadata": {
    "focus": false,
    "id": "dfaca026-8eca-4119-b4c1-e43433790c8e"
   },
   "source": [
    "##### Using a plotting utility of your choice (Tableau or python modules or both), create visualizations that will provide context to your data. There is no minimum or maximum number of graphs you should generate, but there should be a clear and consistent story being told. Give insights to the distribution, statistics, and relationships of the data. "
   ]
  },
  {
   "cell_type": "code",
   "execution_count": 55,
   "metadata": {
    "collapsed": false
   },
   "outputs": [
    {
     "data": {
      "text/html": [
       "<div>\n",
       "<table border=\"1\" class=\"dataframe\">\n",
       "  <thead>\n",
       "    <tr style=\"text-align: right;\">\n",
       "      <th></th>\n",
       "      <th>week</th>\n",
       "      <th>rank</th>\n",
       "    </tr>\n",
       "  </thead>\n",
       "  <tbody>\n",
       "    <tr>\n",
       "      <th>count</th>\n",
       "      <td>5307.000000</td>\n",
       "      <td>5307.000000</td>\n",
       "    </tr>\n",
       "    <tr>\n",
       "      <th>mean</th>\n",
       "      <td>11.470699</td>\n",
       "      <td>51.052384</td>\n",
       "    </tr>\n",
       "    <tr>\n",
       "      <th>std</th>\n",
       "      <td>9.001300</td>\n",
       "      <td>28.966198</td>\n",
       "    </tr>\n",
       "    <tr>\n",
       "      <th>min</th>\n",
       "      <td>1.000000</td>\n",
       "      <td>1.000000</td>\n",
       "    </tr>\n",
       "    <tr>\n",
       "      <th>25%</th>\n",
       "      <td>5.000000</td>\n",
       "      <td>26.000000</td>\n",
       "    </tr>\n",
       "    <tr>\n",
       "      <th>50%</th>\n",
       "      <td>10.000000</td>\n",
       "      <td>51.000000</td>\n",
       "    </tr>\n",
       "    <tr>\n",
       "      <th>75%</th>\n",
       "      <td>16.000000</td>\n",
       "      <td>76.000000</td>\n",
       "    </tr>\n",
       "    <tr>\n",
       "      <th>max</th>\n",
       "      <td>65.000000</td>\n",
       "      <td>100.000000</td>\n",
       "    </tr>\n",
       "  </tbody>\n",
       "</table>\n",
       "</div>"
      ],
      "text/plain": [
       "              week         rank\n",
       "count  5307.000000  5307.000000\n",
       "mean     11.470699    51.052384\n",
       "std       9.001300    28.966198\n",
       "min       1.000000     1.000000\n",
       "25%       5.000000    26.000000\n",
       "50%      10.000000    51.000000\n",
       "75%      16.000000    76.000000\n",
       "max      65.000000   100.000000"
      ]
     },
     "execution_count": 55,
     "metadata": {},
     "output_type": "execute_result"
    }
   ],
   "source": [
    "weekly_rankings.describe()"
   ]
  },
  {
   "cell_type": "code",
   "execution_count": 65,
   "metadata": {
    "collapsed": false,
    "focus": false,
    "id": "aa0c535c-497c-4f10-b695-540612ca534e"
   },
   "outputs": [
    {
     "data": {
      "image/png": "[encoded data removed]",
      "text/plain": [
       "<matplotlib.figure.Figure at 0x11b6331d0>"
      ]
     },
     "metadata": {},
     "output_type": "display_data"
    }
   ],
   "source": [
    "fig = df['weeks_on_charts'].hist(figsize=(8,5), color='blue')\n",
    "\n",
    "ax = plt.gca()\n",
    "\n",
    "ax.set_ylabel('Occurences', fontsize=20)\n",
    "ax.set_xlabel('Weeks', fontsize=20)\n",
    "\n",
    "fig.set_title('Average Time on Charts (All Genres)', y=1.01)\n",
    "\n",
    "plt.style.use('fivethirtyeight')"
   ]
  },
  {
   "cell_type": "code",
   "execution_count": null,
   "metadata": {
    "collapsed": true
   },
   "outputs": [],
   "source": [
    "ax = weekly_rankings.plot.scatter(x='Rate', y='Verbal', color='darkGreen', label='Verbal', figsize=(12,8), s=200)\n",
    "df.plot.scatter(x='Rate', y='Math', color='darkBlue', label='Math', s=200, ax=ax)\n",
    "plt.style.use('fivethirtyeight')\n",
    "ax.set_ylabel('Scores')\n",
    "ax.set_xlabel('Participation Rate')\n",
    "ax.set_title('The Affect of Participation Rate on Score', y=1, x=0.5);"
   ]
  },
  {
   "cell_type": "markdown",
   "metadata": {
    "focus": false,
    "id": "8401c631-245b-4560-8971-25cb2406c2ab"
   },
   "source": [
    "## Step 4: Create a Problem Statement.\n",
    "\n",
    "##### Having explored the data, come up with a problem statement for this data set. You can feel free to introduce data from any other source to support your problem statement, just be sure to provide a link to the origin of the data. Once again- be creative!"
   ]
  },
  {
   "cell_type": "code",
   "execution_count": null,
   "metadata": {
    "collapsed": true,
    "focus": false,
    "id": "e1b81214-9b26-4735-8c1b-4482e948b355"
   },
   "outputs": [],
   "source": []
  },
  {
   "cell_type": "markdown",
   "metadata": {
    "collapsed": false,
    "focus": false,
    "id": "a0ff30a0-48be-4851-9ec3-4ce8ece08a67"
   },
   "source": [
    "## Step 5: Brainstorm your Approach.\n",
    "##### In bullet-list form, provide a proposed approach for evaluating your problem statement. This can be somewhat high-level, but start to think about ways you can massage the data for maximum efficacy. "
   ]
  },
  {
   "cell_type": "code",
   "execution_count": null,
   "metadata": {
    "collapsed": true,
    "focus": false,
    "id": "9d772c7b-61e0-4bc4-bb1a-f3d43ba54862"
   },
   "outputs": [],
   "source": []
  },
  {
   "cell_type": "markdown",
   "metadata": {
    "collapsed": true,
    "focus": false,
    "id": "a3c74c5b-3d90-4442-97d9-ae320fe238d1"
   },
   "source": [
    "## Step 6: Create a blog post with your code snippets and visualizations.\n",
    "##### Data Science is a growing field, and the Tech industry thrives off of collaboration and sharing of knowledge. Blogging is a powerful means for pushing the needle forward in our field. Using your blogging platform of choice, create a post describing each of the 5 steps above. Rather than writing a procedural text, imagine you're describing the data, visualizations, and conclusions you've arrived at to your peers. Aim for a minimum of 500 words. "
   ]
  },
  {
   "cell_type": "code",
   "execution_count": null,
   "metadata": {
    "collapsed": true,
    "focus": false,
    "id": "9b0185e4-7023-4086-b8b7-e15bcacc9984"
   },
   "outputs": [],
   "source": []
  },
  {
   "cell_type": "markdown",
   "metadata": {
    "focus": false,
    "id": "aee61cbf-dfe9-40d3-bfef-772a60bed757"
   },
   "source": [
    "## BONUS: The Content Managers working for the Podcast Publishing Company have recognized you as a thought leader in your field. They've asked you to pen a white paper (minimum 500 words) on the subject of 'What It Means To Have Clean Data'. This will be an opinion piece read by a wide audience, so be sure to back up your statements with real world examples or scenarios.\n",
    "\n",
    "##### Hint: To get started, look around on the internet for articles, blog posts, papers, youtube videos, podcasts, reddit discussions, anything that will help you understand the challenges and implications of dealing with big data. This should be a personal reflection on everything you've learned this week, and the learning goals that have been set out for you going forward. "
   ]
  },
  {
   "cell_type": "code",
   "execution_count": null,
   "metadata": {
    "collapsed": true,
    "focus": false,
    "id": "28deb393-c994-47bc-87d2-035741ce527c"
   },
   "outputs": [],
   "source": []
  }
 ],
 "metadata": {
  "kernelspec": {
   "display_name": "Python 2",
   "language": "python",
   "name": "python2"
  },
  "language_info": {
   "codemirror_mode": {
    "name": "ipython",
    "version": 2
   },
   "file_extension": ".py",
   "mimetype": "text/x-python",
   "name": "python",
   "nbconvert_exporter": "python",
   "pygments_lexer": "ipython2",
   "version": "2.7.11"
  }
 },
 "nbformat": 4,
 "nbformat_minor": 0
}
