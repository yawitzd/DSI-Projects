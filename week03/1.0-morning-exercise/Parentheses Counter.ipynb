{
 "cells": [
  {
   "cell_type": "code",
   "execution_count": 45,
   "metadata": {
    "collapsed": false
   },
   "outputs": [
    {
     "data": {
      "text/plain": [
       "True"
      ]
     },
     "execution_count": 45,
     "metadata": {},
     "output_type": "execute_result"
    }
   ],
   "source": [
    "\n",
    "#`(()()()())` should return `True`\n",
    "#`(((())))` should return `True`\n",
    "#`(()((())()))` should return `True`\n",
    "#`((((((())` should return `False`\n",
    "#`()))` should return `False`\n",
    "#`(()()))(()` should return `False`\n",
    "\n",
    "\n",
    "test = '(this)(is)(my)(string)'\n",
    "\n",
    "def countparenth(value):\n",
    "    count1 = 0\n",
    "    count2 = 0\n",
    "    for i in range(len(value)):\n",
    "        if value[i] == '(':\n",
    "            count1 += 1\n",
    "        elif value[i] == ')':\n",
    "            count2 += 1\n",
    "        else:\n",
    "            continue\n",
    "    if count1 != count2:\n",
    "        return False \n",
    "    elif count1 == count2:\n",
    "        count = 0\n",
    "        for i in range(len(value)):\n",
    "            if value[i] == '(':\n",
    "                count += 1\n",
    "            elif value[i] == ')':\n",
    "                count -= 1\n",
    "                if count < 0:\n",
    "                    return False\n",
    "                    break\n",
    "            else:\n",
    "                continue \n",
    "    \n",
    "    return True\n",
    "        \n",
    "countparenth(test)"
   ]
  },
  {
   "cell_type": "code",
   "execution_count": null,
   "metadata": {
    "collapsed": true
   },
   "outputs": [],
   "source": []
  }
 ],
 "metadata": {
  "kernelspec": {
   "display_name": "Python 2",
   "language": "python",
   "name": "python2"
  },
  "language_info": {
   "codemirror_mode": {
    "name": "ipython",
    "version": 2
   },
   "file_extension": ".py",
   "mimetype": "text/x-python",
   "name": "python",
   "nbconvert_exporter": "python",
   "pygments_lexer": "ipython2",
   "version": "2.7.11"
  }
 },
 "nbformat": 4,
 "nbformat_minor": 0
}
