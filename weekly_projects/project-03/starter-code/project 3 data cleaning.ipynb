{
 "cells": [
  {
   "cell_type": "markdown",
   "metadata": {
    "focus": false,
    "id": "01a0feac-ab3d-4734-ab1e-ffaccc065b90"
   },
   "source": [
    "# Data Workflow Lab 1\n",
    "\n",
    "Clean and summarize Project 3 data.\n",
    "\n",
    "### Learning Objectives\n",
    "\n",
    "* Practice text cleaning techniques\n",
    "* Practice datatype conversion\n",
    "* Practice filling in missing values with either 0 or the average in the column\n",
    "* Practice categorical data techniques\n",
    "* Transform data into usable quantities\n"
   ]
  },
  {
   "cell_type": "code",
   "execution_count": 77,
   "metadata": {
    "collapsed": true,
    "focus": false,
    "id": "13018c95-3582-460f-ba8e-4910f7089e11"
   },
   "outputs": [],
   "source": [
    "% matplotlib inline\n",
    "import seaborn as sns\n",
    "import matplotlib.pyplot as plt\n",
    "\n",
    "import datetime\n",
    "import numpy as np\n",
    "import pandas as pd\n",
    "\n",
    "from sklearn import datasets\n",
    "from sklearn import linear_model\n",
    "\n",
    "from sklearn.cross_validation import cross_val_score\n",
    "from sklearn.cross_validation import cross_val_predict\n",
    "from sklearn.metrics import r2_score\n",
    "\n",
    "from sklearn.cross_validation import train_test_split"
   ]
  },
  {
   "cell_type": "code",
   "execution_count": 78,
   "metadata": {
    "collapsed": false,
    "focus": false,
    "id": "80c8956f-2e08-49b5-90c6-f97c6a9676ad"
   },
   "outputs": [
    {
     "name": "stdout",
     "output_type": "stream",
     "text": [
      "Index([u'Date', u'Store Number', u'City', u'Zip Code', u'County Number',\n",
      "       u'County', u'Category', u'Category Name', u'Vendor Number',\n",
      "       u'Item Number', u'Item Description', u'Bottle Volume (ml)',\n",
      "       u'State Bottle Cost', u'State Bottle Retail', u'Bottles Sold',\n",
      "       u'Sale (Dollars)', u'Volume Sold (Liters)', u'Volume Sold (Gallons)'],\n",
      "      dtype='object')\n"
     ]
    },
    {
     "data": {
      "text/html": [
       "<div>\n",
       "<table border=\"1\" class=\"dataframe\">\n",
       "  <thead>\n",
       "    <tr style=\"text-align: right;\">\n",
       "      <th></th>\n",
       "      <th>Date</th>\n",
       "      <th>Store Number</th>\n",
       "      <th>City</th>\n",
       "      <th>Zip Code</th>\n",
       "      <th>County Number</th>\n",
       "      <th>County</th>\n",
       "      <th>Category</th>\n",
       "      <th>Category Name</th>\n",
       "      <th>Vendor Number</th>\n",
       "      <th>Item Number</th>\n",
       "      <th>Item Description</th>\n",
       "      <th>Bottle Volume (ml)</th>\n",
       "      <th>State Bottle Cost</th>\n",
       "      <th>State Bottle Retail</th>\n",
       "      <th>Bottles Sold</th>\n",
       "      <th>Sale (Dollars)</th>\n",
       "      <th>Volume Sold (Liters)</th>\n",
       "      <th>Volume Sold (Gallons)</th>\n",
       "    </tr>\n",
       "  </thead>\n",
       "  <tbody>\n",
       "    <tr>\n",
       "      <th>0</th>\n",
       "      <td>03/31/2016</td>\n",
       "      <td>5029</td>\n",
       "      <td>DAVENPORT</td>\n",
       "      <td>52806</td>\n",
       "      <td>82.0</td>\n",
       "      <td>Scott</td>\n",
       "      <td>1022100.0</td>\n",
       "      <td>TEQUILA</td>\n",
       "      <td>370</td>\n",
       "      <td>87152</td>\n",
       "      <td>Avion Silver</td>\n",
       "      <td>375</td>\n",
       "      <td>$9.99</td>\n",
       "      <td>$14.99</td>\n",
       "      <td>12</td>\n",
       "      <td>$179.88</td>\n",
       "      <td>4.5</td>\n",
       "      <td>1.19</td>\n",
       "    </tr>\n",
       "    <tr>\n",
       "      <th>1</th>\n",
       "      <td>03/31/2016</td>\n",
       "      <td>5029</td>\n",
       "      <td>DAVENPORT</td>\n",
       "      <td>52806</td>\n",
       "      <td>82.0</td>\n",
       "      <td>Scott</td>\n",
       "      <td>1022100.0</td>\n",
       "      <td>TEQUILA</td>\n",
       "      <td>395</td>\n",
       "      <td>89197</td>\n",
       "      <td>Jose Cuervo Especial Reposado Tequila</td>\n",
       "      <td>1000</td>\n",
       "      <td>$12.50</td>\n",
       "      <td>$18.75</td>\n",
       "      <td>2</td>\n",
       "      <td>$37.50</td>\n",
       "      <td>2.0</td>\n",
       "      <td>0.53</td>\n",
       "    </tr>\n",
       "    <tr>\n",
       "      <th>2</th>\n",
       "      <td>03/31/2016</td>\n",
       "      <td>4959</td>\n",
       "      <td>CEDAR FALLS</td>\n",
       "      <td>50613</td>\n",
       "      <td>7.0</td>\n",
       "      <td>Black Hawk</td>\n",
       "      <td>1071100.0</td>\n",
       "      <td>AMERICAN COCKTAILS</td>\n",
       "      <td>380</td>\n",
       "      <td>63959</td>\n",
       "      <td>Uv Blue Raspberry Lemonade Pet</td>\n",
       "      <td>1750</td>\n",
       "      <td>$5.97</td>\n",
       "      <td>$8.96</td>\n",
       "      <td>6</td>\n",
       "      <td>$53.76</td>\n",
       "      <td>10.5</td>\n",
       "      <td>2.77</td>\n",
       "    </tr>\n",
       "    <tr>\n",
       "      <th>3</th>\n",
       "      <td>03/31/2016</td>\n",
       "      <td>2190</td>\n",
       "      <td>DES MOINES</td>\n",
       "      <td>50314</td>\n",
       "      <td>77.0</td>\n",
       "      <td>Polk</td>\n",
       "      <td>1031200.0</td>\n",
       "      <td>VODKA FLAVORED</td>\n",
       "      <td>205</td>\n",
       "      <td>40597</td>\n",
       "      <td>New Amsterdam Red Berry</td>\n",
       "      <td>200</td>\n",
       "      <td>$2.24</td>\n",
       "      <td>$3.36</td>\n",
       "      <td>48</td>\n",
       "      <td>$161.28</td>\n",
       "      <td>9.6</td>\n",
       "      <td>2.54</td>\n",
       "    </tr>\n",
       "    <tr>\n",
       "      <th>4</th>\n",
       "      <td>03/31/2016</td>\n",
       "      <td>5240</td>\n",
       "      <td>WEST BRANCH</td>\n",
       "      <td>52358</td>\n",
       "      <td>NaN</td>\n",
       "      <td>NaN</td>\n",
       "      <td>1081200.0</td>\n",
       "      <td>CREAM LIQUEURS</td>\n",
       "      <td>305</td>\n",
       "      <td>73055</td>\n",
       "      <td>Rumchata</td>\n",
       "      <td>750</td>\n",
       "      <td>$12.50</td>\n",
       "      <td>$18.75</td>\n",
       "      <td>6</td>\n",
       "      <td>$112.50</td>\n",
       "      <td>4.5</td>\n",
       "      <td>1.19</td>\n",
       "    </tr>\n",
       "  </tbody>\n",
       "</table>\n",
       "</div>"
      ],
      "text/plain": [
       "         Date  Store Number         City Zip Code  County Number      County  \\\n",
       "0  03/31/2016          5029    DAVENPORT    52806           82.0       Scott   \n",
       "1  03/31/2016          5029    DAVENPORT    52806           82.0       Scott   \n",
       "2  03/31/2016          4959  CEDAR FALLS    50613            7.0  Black Hawk   \n",
       "3  03/31/2016          2190   DES MOINES    50314           77.0        Polk   \n",
       "4  03/31/2016          5240  WEST BRANCH    52358            NaN         NaN   \n",
       "\n",
       "    Category       Category Name  Vendor Number  Item Number  \\\n",
       "0  1022100.0             TEQUILA            370        87152   \n",
       "1  1022100.0             TEQUILA            395        89197   \n",
       "2  1071100.0  AMERICAN COCKTAILS            380        63959   \n",
       "3  1031200.0      VODKA FLAVORED            205        40597   \n",
       "4  1081200.0      CREAM LIQUEURS            305        73055   \n",
       "\n",
       "                        Item Description  Bottle Volume (ml)  \\\n",
       "0                           Avion Silver                 375   \n",
       "1  Jose Cuervo Especial Reposado Tequila                1000   \n",
       "2         Uv Blue Raspberry Lemonade Pet                1750   \n",
       "3                New Amsterdam Red Berry                 200   \n",
       "4                               Rumchata                 750   \n",
       "\n",
       "  State Bottle Cost State Bottle Retail  Bottles Sold Sale (Dollars)  \\\n",
       "0             $9.99              $14.99            12        $179.88   \n",
       "1            $12.50              $18.75             2         $37.50   \n",
       "2             $5.97               $8.96             6         $53.76   \n",
       "3             $2.24               $3.36            48        $161.28   \n",
       "4            $12.50              $18.75             6        $112.50   \n",
       "\n",
       "   Volume Sold (Liters)  Volume Sold (Gallons)  \n",
       "0                   4.5                   1.19  \n",
       "1                   2.0                   0.53  \n",
       "2                  10.5                   2.77  \n",
       "3                   9.6                   2.54  \n",
       "4                   4.5                   1.19  "
      ]
     },
     "execution_count": 78,
     "metadata": {},
     "output_type": "execute_result"
    }
   ],
   "source": [
    "# Load the data\n",
    "\n",
    "df = pd.read_csv('Iowa_Liquor_Sales_reduced.csv')\n",
    "\n",
    "print df.columns\n",
    "df.head()"
   ]
  },
  {
   "cell_type": "markdown",
   "metadata": {
    "focus": false,
    "id": "109daac1-bb6d-4646-b71c-b45640b1124b"
   },
   "source": [
    "## Clean the data\n",
    "\n",
    "Let's practice our data cleaning skills on the Project 3 dataset. If you don't remember how to do any of these tasks, look back at your work from the previous weeks or search the internet. There are many blog articles and Stack Overflow posts that cover these topics.\n",
    "\n",
    "You'll want to complete at least the following tasks:\n",
    "* Remove redundant columns\n",
    "* Remove \"$\" prices from characters and convert values to floats.\n",
    "* Convert dates to pandas datetime objects\n",
    "* Convert category floats to integers\n",
    "* Drop or fill in bad values"
   ]
  },
  {
   "cell_type": "code",
   "execution_count": 79,
   "metadata": {
    "collapsed": false,
    "focus": false,
    "id": "4b812f89-b211-4492-a86f-fcc6eb6eaa75"
   },
   "outputs": [],
   "source": [
    "# Remove redundant columns\n",
    "\n",
    "del df['Volume Sold (Gallons)']\n",
    "\n",
    "# Remove $ from certain columns\n",
    "\n",
    "df['State Bottle Cost'] = df['State Bottle Cost'].map(lambda x: x.strip().replace('$', ''))\n",
    "df['State Bottle Retail'] = df['State Bottle Retail'].map(lambda x: x.strip().replace('$', ''))\n",
    "df['Sale (Dollars)'] = df['Sale (Dollars)'].map(lambda x: x.strip().replace('$', ''))\n",
    "\n",
    "df['State Bottle Cost'] = df['State Bottle Cost'].astype('float')\n",
    "df['State Bottle Retail'] = df['State Bottle Retail'].astype('float')\n",
    "df['Sale (Dollars)'] = df['Sale (Dollars)'].astype('float')\n",
    "\n",
    "# Convert dates\n",
    "\n",
    "df['Date'] = pd.to_datetime(df['Date'], infer_datetime_format=True)\n",
    "\n",
    "# Drop or replace bad values\n",
    "df = df.dropna()\n",
    "\n",
    "## creating df for bottle sized under 6L \n",
    "\n",
    "df_ = df[df['Bottle Volume (ml)'] <= 6000]"
   ]
  },
  {
   "cell_type": "markdown",
   "metadata": {
    "focus": true,
    "id": "1a587fcc-ffdd-4f2c-a5f2-5e95ded0d1de"
   },
   "source": [
    "## Filter the Data\n",
    "\n",
    "Some stores may have opened or closed in 2015. These data points will heavily skew our models, so we need to filter them out or find a way to deal with them.\n",
    "\n",
    "You'll need to provide a summary in your project report about these data points. You may also consider using the monthly sales in your model and including other information (number of months or days each store is open) in your data to handle these unusual cases.\n",
    "\n",
    "Let's record the first and last sales dates for each store. We'll save this information for later when we fit our models."
   ]
  },
  {
   "cell_type": "code",
   "execution_count": null,
   "metadata": {
    "collapsed": false
   },
   "outputs": [],
   "source": []
  },
  {
   "cell_type": "code",
   "execution_count": 39,
   "metadata": {
    "collapsed": false,
    "focus": false,
    "id": "4e3908e8-a791-40a5-90d9-1d0802247ed6"
   },
   "outputs": [],
   "source": [
    "# Determine which stores were open all of 2015\n",
    "# Find the first and last sales date.\n",
    "\n",
    "\n",
    "\n",
    "# Filter out stores that opened or closed throughout the year\n",
    "# You may want to save this step until you start modelling\n"
   ]
  },
  {
   "cell_type": "markdown",
   "metadata": {
    "focus": false,
    "id": "9d4909a9-1295-4be1-bcf5-026c36c707a7"
   },
   "source": [
    "## Compute New Columns and Tables\n",
    "\n",
    "Since we're trying to predict sales and/or profits, we'll want to compute some intermediate data. There are a lot of ways to do thisand good use of pandas is crucial. For example, for each transaction we may want to know:\n",
    "* margin, retail cost minus bottle cost\n",
    "* price per bottle\n",
    "* price per liter\n",
    "\n",
    "We'll need to make a new dataframe that indexes quantities by store:\n",
    "* sales per store for all of 2015\n",
    "* sales per store for Q1 2015\n",
    "* sales per store for Q1 2016\n",
    "* total volumes sold\n",
    "* mean transaction revenue, gross margin, price per bottle, price per liter, etc.\n",
    "* average sales per day\n",
    "* number of days open\n",
    "\n",
    "Make sure to retain other variables that we'll want to use to build our models, such as zip code, county number, city, etc. We recommend that you spend some time thinking about the model you may want to fit and computing enough of the suggested quantities to give you a few options.\n",
    "\n",
    "Bonus tasks:\n",
    "* Restrict your attention to stores that were open for all of 2015 and Q1 2016. Stores that opened or closed in 2015 will introduce outliers into your data.\n",
    "* For each transaction we have the item category. You may be able to determine the store type (primarily wine, liquor, all types of alcohol, etc.) by the most common transaction category for each store. This could be a useful categorical variable for modelling. "
   ]
  },
  {
   "cell_type": "code",
   "execution_count": 80,
   "metadata": {
    "collapsed": false,
    "focus": false,
    "id": "a202ef16-b0d9-48e0-bed5-7d7b5be65f9f"
   },
   "outputs": [
    {
     "data": {
      "text/html": [
       "<div>\n",
       "<table border=\"1\" class=\"dataframe\">\n",
       "  <thead>\n",
       "    <tr style=\"text-align: right;\">\n",
       "      <th></th>\n",
       "      <th>Date</th>\n",
       "      <th>Store Number</th>\n",
       "      <th>City</th>\n",
       "      <th>Zip Code</th>\n",
       "      <th>County Number</th>\n",
       "      <th>County</th>\n",
       "      <th>Category</th>\n",
       "      <th>Category Name</th>\n",
       "      <th>Vendor Number</th>\n",
       "      <th>Item Number</th>\n",
       "      <th>Item Description</th>\n",
       "      <th>Bottle Volume (ml)</th>\n",
       "      <th>State Bottle Cost</th>\n",
       "      <th>State Bottle Retail</th>\n",
       "      <th>Bottles Sold</th>\n",
       "      <th>Sale (Dollars)</th>\n",
       "      <th>Volume Sold (Liters)</th>\n",
       "      <th>Profit from Sale</th>\n",
       "      <th>Profit per Liter</th>\n",
       "    </tr>\n",
       "  </thead>\n",
       "  <tbody>\n",
       "    <tr>\n",
       "      <th>0</th>\n",
       "      <td>2016-03-31</td>\n",
       "      <td>5029</td>\n",
       "      <td>DAVENPORT</td>\n",
       "      <td>52806</td>\n",
       "      <td>82.0</td>\n",
       "      <td>Scott</td>\n",
       "      <td>1022100.0</td>\n",
       "      <td>TEQUILA</td>\n",
       "      <td>370</td>\n",
       "      <td>87152</td>\n",
       "      <td>Avion Silver</td>\n",
       "      <td>375</td>\n",
       "      <td>9.99</td>\n",
       "      <td>14.99</td>\n",
       "      <td>12</td>\n",
       "      <td>179.88</td>\n",
       "      <td>4.50</td>\n",
       "      <td>60.00</td>\n",
       "      <td>13.33</td>\n",
       "    </tr>\n",
       "    <tr>\n",
       "      <th>1</th>\n",
       "      <td>2016-03-31</td>\n",
       "      <td>5029</td>\n",
       "      <td>DAVENPORT</td>\n",
       "      <td>52806</td>\n",
       "      <td>82.0</td>\n",
       "      <td>Scott</td>\n",
       "      <td>1022100.0</td>\n",
       "      <td>TEQUILA</td>\n",
       "      <td>395</td>\n",
       "      <td>89197</td>\n",
       "      <td>Jose Cuervo Especial Reposado Tequila</td>\n",
       "      <td>1000</td>\n",
       "      <td>12.50</td>\n",
       "      <td>18.75</td>\n",
       "      <td>2</td>\n",
       "      <td>37.50</td>\n",
       "      <td>2.00</td>\n",
       "      <td>12.50</td>\n",
       "      <td>6.25</td>\n",
       "    </tr>\n",
       "    <tr>\n",
       "      <th>2</th>\n",
       "      <td>2016-03-31</td>\n",
       "      <td>4959</td>\n",
       "      <td>CEDAR FALLS</td>\n",
       "      <td>50613</td>\n",
       "      <td>7.0</td>\n",
       "      <td>Black Hawk</td>\n",
       "      <td>1071100.0</td>\n",
       "      <td>AMERICAN COCKTAILS</td>\n",
       "      <td>380</td>\n",
       "      <td>63959</td>\n",
       "      <td>Uv Blue Raspberry Lemonade Pet</td>\n",
       "      <td>1750</td>\n",
       "      <td>5.97</td>\n",
       "      <td>8.96</td>\n",
       "      <td>6</td>\n",
       "      <td>53.76</td>\n",
       "      <td>10.50</td>\n",
       "      <td>17.94</td>\n",
       "      <td>1.71</td>\n",
       "    </tr>\n",
       "    <tr>\n",
       "      <th>3</th>\n",
       "      <td>2016-03-31</td>\n",
       "      <td>2190</td>\n",
       "      <td>DES MOINES</td>\n",
       "      <td>50314</td>\n",
       "      <td>77.0</td>\n",
       "      <td>Polk</td>\n",
       "      <td>1031200.0</td>\n",
       "      <td>VODKA FLAVORED</td>\n",
       "      <td>205</td>\n",
       "      <td>40597</td>\n",
       "      <td>New Amsterdam Red Berry</td>\n",
       "      <td>200</td>\n",
       "      <td>2.24</td>\n",
       "      <td>3.36</td>\n",
       "      <td>48</td>\n",
       "      <td>161.28</td>\n",
       "      <td>9.60</td>\n",
       "      <td>53.76</td>\n",
       "      <td>5.60</td>\n",
       "    </tr>\n",
       "    <tr>\n",
       "      <th>5</th>\n",
       "      <td>2016-03-31</td>\n",
       "      <td>4988</td>\n",
       "      <td>CEDAR FALLS</td>\n",
       "      <td>50613</td>\n",
       "      <td>7.0</td>\n",
       "      <td>Black Hawk</td>\n",
       "      <td>1011200.0</td>\n",
       "      <td>STRAIGHT BOURBON WHISKIES</td>\n",
       "      <td>260</td>\n",
       "      <td>17090</td>\n",
       "      <td>Bulleit Bourbon 10YR</td>\n",
       "      <td>750</td>\n",
       "      <td>23.00</td>\n",
       "      <td>34.50</td>\n",
       "      <td>1</td>\n",
       "      <td>34.50</td>\n",
       "      <td>0.75</td>\n",
       "      <td>11.50</td>\n",
       "      <td>15.33</td>\n",
       "    </tr>\n",
       "  </tbody>\n",
       "</table>\n",
       "</div>"
      ],
      "text/plain": [
       "        Date  Store Number         City Zip Code  County Number      County  \\\n",
       "0 2016-03-31          5029    DAVENPORT    52806           82.0       Scott   \n",
       "1 2016-03-31          5029    DAVENPORT    52806           82.0       Scott   \n",
       "2 2016-03-31          4959  CEDAR FALLS    50613            7.0  Black Hawk   \n",
       "3 2016-03-31          2190   DES MOINES    50314           77.0        Polk   \n",
       "5 2016-03-31          4988  CEDAR FALLS    50613            7.0  Black Hawk   \n",
       "\n",
       "    Category              Category Name  Vendor Number  Item Number  \\\n",
       "0  1022100.0                    TEQUILA            370        87152   \n",
       "1  1022100.0                    TEQUILA            395        89197   \n",
       "2  1071100.0         AMERICAN COCKTAILS            380        63959   \n",
       "3  1031200.0             VODKA FLAVORED            205        40597   \n",
       "5  1011200.0  STRAIGHT BOURBON WHISKIES            260        17090   \n",
       "\n",
       "                        Item Description  Bottle Volume (ml)  \\\n",
       "0                           Avion Silver                 375   \n",
       "1  Jose Cuervo Especial Reposado Tequila                1000   \n",
       "2         Uv Blue Raspberry Lemonade Pet                1750   \n",
       "3                New Amsterdam Red Berry                 200   \n",
       "5                   Bulleit Bourbon 10YR                 750   \n",
       "\n",
       "   State Bottle Cost  State Bottle Retail  Bottles Sold  Sale (Dollars)  \\\n",
       "0               9.99                14.99            12          179.88   \n",
       "1              12.50                18.75             2           37.50   \n",
       "2               5.97                 8.96             6           53.76   \n",
       "3               2.24                 3.36            48          161.28   \n",
       "5              23.00                34.50             1           34.50   \n",
       "\n",
       "   Volume Sold (Liters)  Profit from Sale  Profit per Liter  \n",
       "0                  4.50             60.00             13.33  \n",
       "1                  2.00             12.50              6.25  \n",
       "2                 10.50             17.94              1.71  \n",
       "3                  9.60             53.76              5.60  \n",
       "5                  0.75             11.50             15.33  "
      ]
     },
     "execution_count": 80,
     "metadata": {},
     "output_type": "execute_result"
    }
   ],
   "source": [
    "# Margin and Price per liter\n",
    "df['Profit from Sale'] =  df['Sale (Dollars)'] - (df['State Bottle Cost'] * df['Bottles Sold'])\n",
    "df['Profit from Sale'] = df['Profit from Sale'].astype('float')\n",
    "df['Profit per Liter'] = df['Profit from Sale'] / df['Volume Sold (Liters)']\n",
    "df['Profit per Liter'] = df['Profit per Liter'].astype('float').round(2)\n",
    "df.head()"
   ]
  },
  {
   "cell_type": "code",
   "execution_count": 81,
   "metadata": {
    "collapsed": false
   },
   "outputs": [
    {
     "data": {
      "text/plain": [
       "1380"
      ]
     },
     "execution_count": 81,
     "metadata": {},
     "output_type": "execute_result"
    }
   ],
   "source": [
    "len(df['Store Number'].unique())"
   ]
  },
  {
   "cell_type": "code",
   "execution_count": 82,
   "metadata": {
    "collapsed": false
   },
   "outputs": [],
   "source": [
    "## separating 2015 (Q1 / Q234) from 2016 (Q1) \n",
    "\n",
    "x = pd.to_datetime('2015-12-31') \n",
    "\n",
    "df2016 = df[df['Date'] > x]\n",
    "df2015 = df[df['Date'] <= x]\n",
    "\n",
    "## Q1 2015 Comparison DF\n",
    "\n",
    "y = pd.to_datetime('2015-3-31') \n",
    "\n",
    "Q1_15 = df[df['Date'] <= y]\n",
    "\n",
    "## Q2,Q3,Q4 2015 DF\n",
    "\n",
    "i = pd.to_datetime('2015-4-1') \n",
    "\n",
    "Q234_15 = df2015[df2015['Date'] >= i]"
   ]
  },
  {
   "cell_type": "code",
   "execution_count": 83,
   "metadata": {
    "collapsed": false
   },
   "outputs": [
    {
     "data": {
      "text/html": [
       "<div>\n",
       "<table border=\"1\" class=\"dataframe\">\n",
       "  <thead>\n",
       "    <tr style=\"text-align: right;\">\n",
       "      <th></th>\n",
       "      <th>Date</th>\n",
       "      <th>Store Number</th>\n",
       "      <th>City</th>\n",
       "      <th>Zip Code</th>\n",
       "      <th>County Number</th>\n",
       "      <th>County</th>\n",
       "      <th>Category</th>\n",
       "      <th>Category Name</th>\n",
       "      <th>Vendor Number</th>\n",
       "      <th>Item Number</th>\n",
       "      <th>Item Description</th>\n",
       "      <th>Bottle Volume (ml)</th>\n",
       "      <th>State Bottle Cost</th>\n",
       "      <th>State Bottle Retail</th>\n",
       "      <th>Bottles Sold</th>\n",
       "      <th>Sale (Dollars)</th>\n",
       "      <th>Volume Sold (Liters)</th>\n",
       "      <th>Profit from Sale</th>\n",
       "      <th>Profit per Liter</th>\n",
       "    </tr>\n",
       "  </thead>\n",
       "  <tbody>\n",
       "    <tr>\n",
       "      <th>2212926</th>\n",
       "      <td>2015-03-31</td>\n",
       "      <td>2508</td>\n",
       "      <td>CEDAR RAPIDS</td>\n",
       "      <td>52405</td>\n",
       "      <td>57.0</td>\n",
       "      <td>Linn</td>\n",
       "      <td>1031080.0</td>\n",
       "      <td>VODKA 80 PROOF</td>\n",
       "      <td>260</td>\n",
       "      <td>37426</td>\n",
       "      <td>Popov Vodka 80 Prf Traveler</td>\n",
       "      <td>750</td>\n",
       "      <td>4.50</td>\n",
       "      <td>6.75</td>\n",
       "      <td>12</td>\n",
       "      <td>81.00</td>\n",
       "      <td>9.00</td>\n",
       "      <td>27.00</td>\n",
       "      <td>3.00</td>\n",
       "    </tr>\n",
       "    <tr>\n",
       "      <th>2212927</th>\n",
       "      <td>2015-03-31</td>\n",
       "      <td>3942</td>\n",
       "      <td>TOLEDO</td>\n",
       "      <td>52342</td>\n",
       "      <td>86.0</td>\n",
       "      <td>Tama</td>\n",
       "      <td>1022100.0</td>\n",
       "      <td>TEQUILA</td>\n",
       "      <td>65</td>\n",
       "      <td>88540</td>\n",
       "      <td>Hornitos Lime Shot</td>\n",
       "      <td>750</td>\n",
       "      <td>13.64</td>\n",
       "      <td>20.46</td>\n",
       "      <td>3</td>\n",
       "      <td>61.38</td>\n",
       "      <td>2.25</td>\n",
       "      <td>20.46</td>\n",
       "      <td>9.09</td>\n",
       "    </tr>\n",
       "    <tr>\n",
       "      <th>2212928</th>\n",
       "      <td>2015-03-31</td>\n",
       "      <td>4252</td>\n",
       "      <td>MONTICELLO</td>\n",
       "      <td>52310</td>\n",
       "      <td>53.0</td>\n",
       "      <td>Jones</td>\n",
       "      <td>1062310.0</td>\n",
       "      <td>SPICED RUM</td>\n",
       "      <td>260</td>\n",
       "      <td>43336</td>\n",
       "      <td>Captain Morgan Original Spiced</td>\n",
       "      <td>750</td>\n",
       "      <td>9.00</td>\n",
       "      <td>13.50</td>\n",
       "      <td>1</td>\n",
       "      <td>13.50</td>\n",
       "      <td>0.75</td>\n",
       "      <td>4.50</td>\n",
       "      <td>6.00</td>\n",
       "    </tr>\n",
       "    <tr>\n",
       "      <th>2212929</th>\n",
       "      <td>2015-03-31</td>\n",
       "      <td>2562</td>\n",
       "      <td>FORT DODGE</td>\n",
       "      <td>50501</td>\n",
       "      <td>94.0</td>\n",
       "      <td>Webster</td>\n",
       "      <td>1032080.0</td>\n",
       "      <td>IMPORTED VODKA</td>\n",
       "      <td>260</td>\n",
       "      <td>34456</td>\n",
       "      <td>Ketel One Imported Vodka</td>\n",
       "      <td>750</td>\n",
       "      <td>14.00</td>\n",
       "      <td>21.00</td>\n",
       "      <td>12</td>\n",
       "      <td>252.00</td>\n",
       "      <td>9.00</td>\n",
       "      <td>84.00</td>\n",
       "      <td>9.33</td>\n",
       "    </tr>\n",
       "    <tr>\n",
       "      <th>2212930</th>\n",
       "      <td>2015-03-31</td>\n",
       "      <td>2649</td>\n",
       "      <td>DUBUQUE</td>\n",
       "      <td>52001</td>\n",
       "      <td>31.0</td>\n",
       "      <td>Dubuque</td>\n",
       "      <td>1012100.0</td>\n",
       "      <td>CANADIAN WHISKIES</td>\n",
       "      <td>115</td>\n",
       "      <td>11786</td>\n",
       "      <td>Black Velvet Traveler</td>\n",
       "      <td>750</td>\n",
       "      <td>5.23</td>\n",
       "      <td>7.85</td>\n",
       "      <td>12</td>\n",
       "      <td>94.20</td>\n",
       "      <td>9.00</td>\n",
       "      <td>31.44</td>\n",
       "      <td>3.49</td>\n",
       "    </tr>\n",
       "  </tbody>\n",
       "</table>\n",
       "</div>"
      ],
      "text/plain": [
       "              Date  Store Number          City Zip Code  County Number  \\\n",
       "2212926 2015-03-31          2508  CEDAR RAPIDS    52405           57.0   \n",
       "2212927 2015-03-31          3942        TOLEDO    52342           86.0   \n",
       "2212928 2015-03-31          4252    MONTICELLO    52310           53.0   \n",
       "2212929 2015-03-31          2562    FORT DODGE    50501           94.0   \n",
       "2212930 2015-03-31          2649       DUBUQUE    52001           31.0   \n",
       "\n",
       "          County   Category      Category Name  Vendor Number  Item Number  \\\n",
       "2212926     Linn  1031080.0     VODKA 80 PROOF            260        37426   \n",
       "2212927     Tama  1022100.0            TEQUILA             65        88540   \n",
       "2212928    Jones  1062310.0         SPICED RUM            260        43336   \n",
       "2212929  Webster  1032080.0     IMPORTED VODKA            260        34456   \n",
       "2212930  Dubuque  1012100.0  CANADIAN WHISKIES            115        11786   \n",
       "\n",
       "                       Item Description  Bottle Volume (ml)  \\\n",
       "2212926     Popov Vodka 80 Prf Traveler                 750   \n",
       "2212927              Hornitos Lime Shot                 750   \n",
       "2212928  Captain Morgan Original Spiced                 750   \n",
       "2212929        Ketel One Imported Vodka                 750   \n",
       "2212930           Black Velvet Traveler                 750   \n",
       "\n",
       "         State Bottle Cost  State Bottle Retail  Bottles Sold  Sale (Dollars)  \\\n",
       "2212926               4.50                 6.75            12           81.00   \n",
       "2212927              13.64                20.46             3           61.38   \n",
       "2212928               9.00                13.50             1           13.50   \n",
       "2212929              14.00                21.00            12          252.00   \n",
       "2212930               5.23                 7.85            12           94.20   \n",
       "\n",
       "         Volume Sold (Liters)  Profit from Sale  Profit per Liter  \n",
       "2212926                  9.00             27.00              3.00  \n",
       "2212927                  2.25             20.46              9.09  \n",
       "2212928                  0.75              4.50              6.00  \n",
       "2212929                  9.00             84.00              9.33  \n",
       "2212930                  9.00             31.44              3.49  "
      ]
     },
     "execution_count": 83,
     "metadata": {},
     "output_type": "execute_result"
    }
   ],
   "source": [
    "Q1_15.head()"
   ]
  },
  {
   "cell_type": "code",
   "execution_count": 46,
   "metadata": {
    "collapsed": false
   },
   "outputs": [],
   "source": [
    "# df2016 = df2016.set_index('Date')\n",
    "# df2015 = df2015.set_index('Date')"
   ]
  },
  {
   "cell_type": "code",
   "execution_count": 47,
   "metadata": {
    "collapsed": false
   },
   "outputs": [],
   "source": [
    "# start_date = pd.to_datetime('2015-01-01')\n",
    "# end_date= pd.to_datetime('2016-01-31')\n",
    "\n",
    "# jan15 = df2015[start_date:end_date]"
   ]
  },
  {
   "cell_type": "code",
   "execution_count": 48,
   "metadata": {
    "collapsed": false
   },
   "outputs": [],
   "source": [
    "#y = pd.date_range('2015-01-01','2015-01-31')\n",
    "\n",
    "#jan15 = df[df['Date'] '== / is in' y]\n",
    "\n",
    "#jan15 = df[df['Date'].map(lambda x: x == pd.date_range('2015-01-01','2015-01-31'))]\n",
    "\n",
    "#jan15.head()"
   ]
  },
  {
   "cell_type": "code",
   "execution_count": 49,
   "metadata": {
    "collapsed": false
   },
   "outputs": [],
   "source": [
    "## Make month groupings, so that I can compare best trajectories from 2015 - 2016\n",
    "\n",
    "#jan2015 = df2015[df2015['Date'].map(lambda x: x in range('2015-01-01':'2015-02-01'))]\n",
    "#feb2015 = \n",
    "#mar2015 = \n",
    "#apr2015 = \n",
    "\n",
    "#df2016['Date'][0].month\n",
    "\n",
    "#jan2015.head"
   ]
  },
  {
   "cell_type": "code",
   "execution_count": 96,
   "metadata": {
    "collapsed": false
   },
   "outputs": [
    {
     "data": {
      "text/html": [
       "<div>\n",
       "<table border=\"1\" class=\"dataframe\">\n",
       "  <thead>\n",
       "    <tr style=\"text-align: right;\">\n",
       "      <th></th>\n",
       "      <th>Bottle Volume (ml)</th>\n",
       "      <th>Bottles Sold</th>\n",
       "      <th>Profit from Sale</th>\n",
       "      <th>Volume Sold (Liters)</th>\n",
       "    </tr>\n",
       "    <tr>\n",
       "      <th>County</th>\n",
       "      <th></th>\n",
       "      <th></th>\n",
       "      <th></th>\n",
       "      <th></th>\n",
       "    </tr>\n",
       "  </thead>\n",
       "  <tbody>\n",
       "    <tr>\n",
       "      <th>Adair</th>\n",
       "      <td>1026250</td>\n",
       "      <td>8861</td>\n",
       "      <td>34635.64</td>\n",
       "      <td>8297.97</td>\n",
       "    </tr>\n",
       "    <tr>\n",
       "      <th>Adams</th>\n",
       "      <td>335200</td>\n",
       "      <td>1804</td>\n",
       "      <td>6794.39</td>\n",
       "      <td>1539.72</td>\n",
       "    </tr>\n",
       "    <tr>\n",
       "      <th>Allamakee</th>\n",
       "      <td>1707400</td>\n",
       "      <td>11789</td>\n",
       "      <td>52241.62</td>\n",
       "      <td>12796.43</td>\n",
       "    </tr>\n",
       "    <tr>\n",
       "      <th>Appanoose</th>\n",
       "      <td>1764175</td>\n",
       "      <td>13073</td>\n",
       "      <td>50906.19</td>\n",
       "      <td>12314.28</td>\n",
       "    </tr>\n",
       "    <tr>\n",
       "      <th>Audubon</th>\n",
       "      <td>520300</td>\n",
       "      <td>3301</td>\n",
       "      <td>13173.47</td>\n",
       "      <td>3298.56</td>\n",
       "    </tr>\n",
       "  </tbody>\n",
       "</table>\n",
       "</div>"
      ],
      "text/plain": [
       "           Bottle Volume (ml)  Bottles Sold  Profit from Sale  \\\n",
       "County                                                          \n",
       "Adair                 1026250          8861          34635.64   \n",
       "Adams                  335200          1804           6794.39   \n",
       "Allamakee             1707400         11789          52241.62   \n",
       "Appanoose             1764175         13073          50906.19   \n",
       "Audubon                520300          3301          13173.47   \n",
       "\n",
       "           Volume Sold (Liters)  \n",
       "County                           \n",
       "Adair                   8297.97  \n",
       "Adams                   1539.72  \n",
       "Allamakee              12796.43  \n",
       "Appanoose              12314.28  \n",
       "Audubon                 3298.56  "
      ]
     },
     "execution_count": 96,
     "metadata": {},
     "output_type": "execute_result"
    }
   ],
   "source": [
    "test = pd.pivot_table(Q1_15, index=['County'], \\\n",
    "                           values=['Bottles Sold', 'Volume Sold (Liters)', 'Profit from Sale', 'Bottle Volume (ml)'], aggfunc=lambda x: sum(x))\n",
    "\n",
    "test.head()"
   ]
  },
  {
   "cell_type": "code",
   "execution_count": 84,
   "metadata": {
    "collapsed": false
   },
   "outputs": [],
   "source": [
    "## Making Pivot Tables of literally fucking everything\n",
    "\n",
    "# Q1 of 2015\n",
    "\n",
    "salesQ1 = pd.pivot_table(Q1_15, index=['County'], \\\n",
    "                           values=['Bottles Sold', 'Volume Sold (Liters)', 'Profit from Sale', 'Bottle Volume (ml)'], aggfunc=[sum])\n",
    "\n",
    "d_salesQ1 = pd.pivot_table(Q1_15, index=['County'], \\\n",
    "                           values=['Bottles Sold', 'Volume Sold (Liters)', 'Bottle Volume (ml)'], aggfunc=[sum])\n",
    "\n",
    "t_salesQ1 = pd.pivot_table(Q1_15, index=['County'], \\\n",
    "                           values=['Profit from Sale'], aggfunc=[sum])\n",
    "\n",
    "# Q234 of 2015\n",
    "\n",
    "salesQ234 = pd.pivot_table(Q234_15, index=['County'], \\\n",
    "                           values=['Bottles Sold', 'Volume Sold (Liters)', 'Profit from Sale', 'Bottle Volume (ml)'], aggfunc=[sum])\n",
    "\n",
    "d_salesQ234 = pd.pivot_table(Q234_15, index=['County'], \\\n",
    "                           values=['Bottles Sold', 'Volume Sold (Liters)', 'Bottle Volume (ml)'], aggfunc=[sum])\n",
    "\n",
    "t_salesQ234 = pd.pivot_table(Q234_15, index=['County'], \\\n",
    "                           values=['Profit from Sale'], aggfunc=[sum])\n",
    "\n",
    "# Q1 of 2016\n",
    "\n",
    "sales2016 = pd.pivot_table(df2016, index=['County'], \\\n",
    "                           values=['Bottles Sold', 'Volume Sold (Liters)', 'Profit from Sale', 'Bottle Volume (ml)'], aggfunc=[sum])\n",
    "\n",
    "d_sales2016 = pd.pivot_table(df2016, index=['County'], \\\n",
    "                           values=['Bottles Sold', 'Volume Sold (Liters)', 'Bottle Volume (ml)'], aggfunc=[sum])\n",
    "\n",
    "t_sales2016 = pd.pivot_table(df2016, index=['County'], \\\n",
    "                           values=['Profit from Sale'])"
   ]
  },
  {
   "cell_type": "code",
   "execution_count": 85,
   "metadata": {
    "collapsed": false
   },
   "outputs": [
    {
     "name": "stdout",
     "output_type": "stream",
     "text": [
      "(99, 4)\n",
      "(99, 4)\n",
      "(99, 4)\n"
     ]
    }
   ],
   "source": [
    "print sales2016.shape\n",
    "print salesQ1.shape\n",
    "print salesQ234.shape"
   ]
  },
  {
   "cell_type": "markdown",
   "metadata": {
    "focus": false,
    "id": "09b1e858-47a1-463d-8e6b-7404b7d2f192"
   },
   "source": [
    "Proceed with any calculations that you need for your models, such as grouping\n",
    "sales by zip code, most common vendor number per store, etc. Once you have finished adding columns, be sure to save the dataframe."
   ]
  },
  {
   "cell_type": "code",
   "execution_count": 52,
   "metadata": {
    "collapsed": true,
    "focus": false,
    "id": "4507c673-76d5-40b8-bc95-c92209089d6c"
   },
   "outputs": [],
   "source": [
    "# Compute more things\n",
    "# ..."
   ]
  },
  {
   "cell_type": "code",
   "execution_count": 53,
   "metadata": {
    "collapsed": true,
    "focus": false,
    "id": "9f503de5-0cb6-473b-adab-c690cf0c0839"
   },
   "outputs": [],
   "source": [
    "# Save this dataframe\n",
    "\n",
    "#df.to_csv('clean_sales.csv')"
   ]
  },
  {
   "cell_type": "code",
   "execution_count": 54,
   "metadata": {
    "collapsed": false
   },
   "outputs": [
    {
     "data": {
      "text/html": [
       "<div>\n",
       "<table border=\"1\" class=\"dataframe\">\n",
       "  <thead>\n",
       "    <tr>\n",
       "      <th></th>\n",
       "      <th colspan=\"4\" halign=\"left\">sum</th>\n",
       "    </tr>\n",
       "    <tr>\n",
       "      <th></th>\n",
       "      <th>Bottle Volume (ml)</th>\n",
       "      <th>Bottles Sold</th>\n",
       "      <th>Profit from Sale</th>\n",
       "      <th>Volume Sold (Liters)</th>\n",
       "    </tr>\n",
       "    <tr>\n",
       "      <th>County</th>\n",
       "      <th></th>\n",
       "      <th></th>\n",
       "      <th></th>\n",
       "      <th></th>\n",
       "    </tr>\n",
       "  </thead>\n",
       "  <tbody>\n",
       "    <tr>\n",
       "      <th>Adair</th>\n",
       "      <td>3448750</td>\n",
       "      <td>26185</td>\n",
       "      <td>107483.57</td>\n",
       "      <td>25657.63</td>\n",
       "    </tr>\n",
       "    <tr>\n",
       "      <th>Adams</th>\n",
       "      <td>1422203</td>\n",
       "      <td>6642</td>\n",
       "      <td>26820.39</td>\n",
       "      <td>6007.90</td>\n",
       "    </tr>\n",
       "    <tr>\n",
       "      <th>Allamakee</th>\n",
       "      <td>7441775</td>\n",
       "      <td>49134</td>\n",
       "      <td>223758.64</td>\n",
       "      <td>53424.83</td>\n",
       "    </tr>\n",
       "    <tr>\n",
       "      <th>Appanoose</th>\n",
       "      <td>6656075</td>\n",
       "      <td>53933</td>\n",
       "      <td>228425.45</td>\n",
       "      <td>49179.48</td>\n",
       "    </tr>\n",
       "    <tr>\n",
       "      <th>Audubon</th>\n",
       "      <td>1546000</td>\n",
       "      <td>11901</td>\n",
       "      <td>45140.71</td>\n",
       "      <td>11557.87</td>\n",
       "    </tr>\n",
       "  </tbody>\n",
       "</table>\n",
       "</div>"
      ],
      "text/plain": [
       "                         sum                                \\\n",
       "          Bottle Volume (ml) Bottles Sold Profit from Sale   \n",
       "County                                                       \n",
       "Adair                3448750        26185        107483.57   \n",
       "Adams                1422203         6642         26820.39   \n",
       "Allamakee            7441775        49134        223758.64   \n",
       "Appanoose            6656075        53933        228425.45   \n",
       "Audubon              1546000        11901         45140.71   \n",
       "\n",
       "                                \n",
       "          Volume Sold (Liters)  \n",
       "County                          \n",
       "Adair                 25657.63  \n",
       "Adams                  6007.90  \n",
       "Allamakee             53424.83  \n",
       "Appanoose             49179.48  \n",
       "Audubon               11557.87  "
      ]
     },
     "execution_count": 54,
     "metadata": {},
     "output_type": "execute_result"
    }
   ],
   "source": [
    "salesQ234.head()"
   ]
  },
  {
   "cell_type": "code",
   "execution_count": 95,
   "metadata": {
    "collapsed": false
   },
   "outputs": [
    {
     "name": "stdout",
     "output_type": "stream",
     "text": [
      "       X Shape  Y Shape\n",
      "Train (66, 4) (66, 1)\n",
      "Test  (33, 4) (33, 1)\n",
      "Pre TTS R^2 Score: 0.909929335957\n",
      "Post TTS R^2 Score: 0.907366491681\n"
     ]
    },
    {
     "data": {
      "image/png": "[encoded data removed]",
      "text/plain": [
       "<matplotlib.figure.Figure at 0x1a17518d0>"
      ]
     },
     "metadata": {},
     "output_type": "display_data"
    }
   ],
   "source": [
    "## Modeling ## \n",
    "# lm linear / lasso / rr\n",
    "# x1 = 2015 q1 (total profit by county) DF = Q1_15\n",
    "# y1 = 2015 q234 total profit by county DF = Q234_15\n",
    "# fit model to above\n",
    "# predict y2 (Q234 total profit by county) \n",
    "# by x2 (Q1 total profit by county) DF = df2016\n",
    "\n",
    "\n",
    "X = salesQ1\n",
    "y = t_salesQ234\n",
    "X1 = sales2016\n",
    "\n",
    "X_train, X_test, y_train, y_test = \\\n",
    "train_test_split(X, y, test_size=0.33)\n",
    "\n",
    "print \"       X Shape  Y Shape\"\n",
    "print \"Train\", X_train.shape, y_train.shape\n",
    "print \"Test \", X_test.shape, y_test.shape\n",
    "\n",
    "lrcv = linear_model.RidgeCV()\n",
    "lrcv_model = lrcv.fit(X,y)\n",
    "predictions = lrcv_model.predict(X1)\n",
    "lrcv_r2 =  r2_score(y_true=y, y_pred=lrcv_model.predict(X1))\n",
    "print \"Pre TTS R^2 Score:\", lrcv_r2\n",
    "\n",
    "## The line / model\n",
    "plt.scatter(y, predictions, s=30, c='r', marker='+', zorder=10)\n",
    "plt.xlabel(\"True Values\")\n",
    "plt.ylabel(\"Predictions\")\n",
    "print \"Post TTS R^2 Score:\", lrcv_model.score(X,y)\n",
    " \n",
    "y1 = lrcv_model.predict(X1)"
   ]
  },
  {
   "cell_type": "code",
   "execution_count": 56,
   "metadata": {
    "collapsed": false
   },
   "outputs": [
    {
     "data": {
      "text/html": [
       "<div>\n",
       "<table border=\"1\" class=\"dataframe\">\n",
       "  <thead>\n",
       "    <tr>\n",
       "      <th></th>\n",
       "      <th colspan=\"4\" halign=\"left\">sum</th>\n",
       "    </tr>\n",
       "    <tr>\n",
       "      <th></th>\n",
       "      <th>Bottle Volume (ml)</th>\n",
       "      <th>Bottles Sold</th>\n",
       "      <th>Profit from Sale</th>\n",
       "      <th>Volume Sold (Liters)</th>\n",
       "    </tr>\n",
       "    <tr>\n",
       "      <th>County</th>\n",
       "      <th></th>\n",
       "      <th></th>\n",
       "      <th></th>\n",
       "      <th></th>\n",
       "    </tr>\n",
       "  </thead>\n",
       "  <tbody>\n",
       "    <tr>\n",
       "      <th>Adair</th>\n",
       "      <td>1131800</td>\n",
       "      <td>8436</td>\n",
       "      <td>35187.43</td>\n",
       "      <td>8262.44</td>\n",
       "    </tr>\n",
       "    <tr>\n",
       "      <th>Adams</th>\n",
       "      <td>469350</td>\n",
       "      <td>1727</td>\n",
       "      <td>7293.89</td>\n",
       "      <td>1643.87</td>\n",
       "    </tr>\n",
       "    <tr>\n",
       "      <th>Allamakee</th>\n",
       "      <td>2202050</td>\n",
       "      <td>13591</td>\n",
       "      <td>59832.68</td>\n",
       "      <td>14839.15</td>\n",
       "    </tr>\n",
       "    <tr>\n",
       "      <th>Appanoose</th>\n",
       "      <td>1769625</td>\n",
       "      <td>14566</td>\n",
       "      <td>59035.98</td>\n",
       "      <td>13713.39</td>\n",
       "    </tr>\n",
       "    <tr>\n",
       "      <th>Audubon</th>\n",
       "      <td>441625</td>\n",
       "      <td>3350</td>\n",
       "      <td>12417.68</td>\n",
       "      <td>3426.62</td>\n",
       "    </tr>\n",
       "  </tbody>\n",
       "</table>\n",
       "</div>"
      ],
      "text/plain": [
       "                         sum                                \\\n",
       "          Bottle Volume (ml) Bottles Sold Profit from Sale   \n",
       "County                                                       \n",
       "Adair                1131800         8436         35187.43   \n",
       "Adams                 469350         1727          7293.89   \n",
       "Allamakee            2202050        13591         59832.68   \n",
       "Appanoose            1769625        14566         59035.98   \n",
       "Audubon               441625         3350         12417.68   \n",
       "\n",
       "                                \n",
       "          Volume Sold (Liters)  \n",
       "County                          \n",
       "Adair                  8262.44  \n",
       "Adams                  1643.87  \n",
       "Allamakee             14839.15  \n",
       "Appanoose             13713.39  \n",
       "Audubon                3426.62  "
      ]
     },
     "execution_count": 56,
     "metadata": {},
     "output_type": "execute_result"
    }
   ],
   "source": [
    "sales2016.head()"
   ]
  },
  {
   "cell_type": "code",
   "execution_count": 57,
   "metadata": {
    "collapsed": true
   },
   "outputs": [],
   "source": [
    "sales2016['sum', 'Q2-4 Predicted Prof'] = y1"
   ]
  },
  {
   "cell_type": "code",
   "execution_count": 63,
   "metadata": {
    "collapsed": true
   },
   "outputs": [],
   "source": [
    "sales2016['sum', 'Q2-4 Predicted Prof'] = sales2016['sum', 'Q2-4 Predicted Prof'].round(2)"
   ]
  },
  {
   "cell_type": "code",
   "execution_count": 64,
   "metadata": {
    "collapsed": false
   },
   "outputs": [
    {
     "data": {
      "text/html": [
       "<div>\n",
       "<table border=\"1\" class=\"dataframe\">\n",
       "  <thead>\n",
       "    <tr>\n",
       "      <th></th>\n",
       "      <th colspan=\"5\" halign=\"left\">sum</th>\n",
       "    </tr>\n",
       "    <tr>\n",
       "      <th></th>\n",
       "      <th>Bottle Volume (ml)</th>\n",
       "      <th>Bottles Sold</th>\n",
       "      <th>Profit from Sale</th>\n",
       "      <th>Volume Sold (Liters)</th>\n",
       "      <th>Q2-4 Predicted Prof</th>\n",
       "    </tr>\n",
       "    <tr>\n",
       "      <th>County</th>\n",
       "      <th></th>\n",
       "      <th></th>\n",
       "      <th></th>\n",
       "      <th></th>\n",
       "      <th></th>\n",
       "    </tr>\n",
       "  </thead>\n",
       "  <tbody>\n",
       "    <tr>\n",
       "      <th>Adair</th>\n",
       "      <td>1131800</td>\n",
       "      <td>8436</td>\n",
       "      <td>35187.43</td>\n",
       "      <td>8262.44</td>\n",
       "      <td>351065.01</td>\n",
       "    </tr>\n",
       "    <tr>\n",
       "      <th>Adams</th>\n",
       "      <td>469350</td>\n",
       "      <td>1727</td>\n",
       "      <td>7293.89</td>\n",
       "      <td>1643.87</td>\n",
       "      <td>308100.49</td>\n",
       "    </tr>\n",
       "    <tr>\n",
       "      <th>Allamakee</th>\n",
       "      <td>2202050</td>\n",
       "      <td>13591</td>\n",
       "      <td>59832.68</td>\n",
       "      <td>14839.15</td>\n",
       "      <td>355965.05</td>\n",
       "    </tr>\n",
       "    <tr>\n",
       "      <th>Appanoose</th>\n",
       "      <td>1769625</td>\n",
       "      <td>14566</td>\n",
       "      <td>59035.98</td>\n",
       "      <td>13713.39</td>\n",
       "      <td>384398.37</td>\n",
       "    </tr>\n",
       "    <tr>\n",
       "      <th>Audubon</th>\n",
       "      <td>441625</td>\n",
       "      <td>3350</td>\n",
       "      <td>12417.68</td>\n",
       "      <td>3426.62</td>\n",
       "      <td>316366.51</td>\n",
       "    </tr>\n",
       "  </tbody>\n",
       "</table>\n",
       "</div>"
      ],
      "text/plain": [
       "                         sum                                \\\n",
       "          Bottle Volume (ml) Bottles Sold Profit from Sale   \n",
       "County                                                       \n",
       "Adair                1131800         8436         35187.43   \n",
       "Adams                 469350         1727          7293.89   \n",
       "Allamakee            2202050        13591         59832.68   \n",
       "Appanoose            1769625        14566         59035.98   \n",
       "Audubon               441625         3350         12417.68   \n",
       "\n",
       "                                                    \n",
       "          Volume Sold (Liters) Q2-4 Predicted Prof  \n",
       "County                                              \n",
       "Adair                  8262.44           351065.01  \n",
       "Adams                  1643.87           308100.49  \n",
       "Allamakee             14839.15           355965.05  \n",
       "Appanoose             13713.39           384398.37  \n",
       "Audubon                3426.62           316366.51  "
      ]
     },
     "execution_count": 64,
     "metadata": {},
     "output_type": "execute_result"
    }
   ],
   "source": [
    "sales2016.head()"
   ]
  },
  {
   "cell_type": "code",
   "execution_count": null,
   "metadata": {
    "collapsed": true
   },
   "outputs": [],
   "source": []
  },
  {
   "cell_type": "code",
   "execution_count": 59,
   "metadata": {
    "collapsed": false,
    "scrolled": true
   },
   "outputs": [],
   "source": [
    "# ## Removing known data (sales) from \n",
    "\n",
    "# X = d_salesQ1\n",
    "# y = t_salesQ234\n",
    "# X1 = d_sales2016\n",
    "\n",
    "# lrcv2 = linear_model.RidgeCV()\n",
    "# lrcv2_model = lrcv2.fit(X,y)\n",
    "\n",
    "# lrcv_r2 =  r2_score(y_true=y, y_pred=lrcv2_model.predict(X1))\n",
    "# print lrcv_r2\n",
    "\n",
    "# lrcv2_model.predict(X1)\n",
    "\n",
    "\n",
    "# #X_train, X_test, Y_train, Y_test = train_test_split() "
   ]
  },
  {
   "cell_type": "code",
   "execution_count": 61,
   "metadata": {
    "collapsed": false
   },
   "outputs": [],
   "source": [
    "# ls = linear_model.Lasso()\n",
    "# ls_model = ls.fit(X,y)\n",
    "\n",
    "# ls_r2 =  r2_score(y_true=y, y_pred=ls_model.predict(X1))\n",
    "# print ls_r2\n",
    "\n",
    "# ls_model.predict(X1)\n",
    "\n"
   ]
  },
  {
   "cell_type": "code",
   "execution_count": null,
   "metadata": {
    "collapsed": true
   },
   "outputs": [],
   "source": []
  },
  {
   "cell_type": "code",
   "execution_count": 73,
   "metadata": {
    "collapsed": false
   },
   "outputs": [
    {
     "data": {
      "text/plain": [
       "<seaborn.axisgrid.JointGrid at 0x1c6dac790>"
      ]
     },
     "execution_count": 73,
     "metadata": {},
     "output_type": "execute_result"
    },
    {
     "data": {
      "image/png": "[encoded data removed]",
      "text/plain": [
       "<matplotlib.figure.Figure at 0x1c6dac190>"
      ]
     },
     "metadata": {},
     "output_type": "display_data"
    }
   ],
   "source": [
    "sns.jointplot(x=df['Bottle Volume (ml)'], y=df['Profit from Sale'], kind='scatter')"
   ]
  },
  {
   "cell_type": "code",
   "execution_count": 68,
   "metadata": {
    "collapsed": false
   },
   "outputs": [
    {
     "data": {
      "text/plain": [
       "<seaborn.axisgrid.JointGrid at 0x1c2636b50>"
      ]
     },
     "execution_count": 68,
     "metadata": {},
     "output_type": "execute_result"
    },
    {
     "data": {
      "image/png": "[encoded data removed]",
      "text/plain": [
       "<matplotlib.figure.Figure at 0x1bceecc50>"
      ]
     },
     "metadata": {},
     "output_type": "display_data"
    }
   ],
   "source": [
    "sns.jointplot(x=df['Volume Sold (Liters)'], y=df['Profit from Sale'], kind='scatter')"
   ]
  },
  {
   "cell_type": "code",
   "execution_count": 69,
   "metadata": {
    "collapsed": false
   },
   "outputs": [
    {
     "data": {
      "text/plain": [
       "<seaborn.axisgrid.JointGrid at 0x12b0c5610>"
      ]
     },
     "execution_count": 69,
     "metadata": {},
     "output_type": "execute_result"
    },
    {
     "data": {
      "image/png": "[encoded data removed]",
      "text/plain": [
       "<matplotlib.figure.Figure at 0x1bda9ed50>"
      ]
     },
     "metadata": {},
     "output_type": "display_data"
    }
   ],
   "source": [
    "sns.jointplot(x=df['Bottles Sold'], y=df['Profit from Sale'], kind='scatter')"
   ]
  },
  {
   "cell_type": "code",
   "execution_count": null,
   "metadata": {
    "collapsed": true
   },
   "outputs": [],
   "source": []
  }
 ],
 "metadata": {
  "kernelspec": {
   "display_name": "Python 2",
   "language": "python",
   "name": "python2"
  },
  "language_info": {
   "codemirror_mode": {
    "name": "ipython",
    "version": 2
   },
   "file_extension": ".py",
   "mimetype": "text/x-python",
   "name": "python",
   "nbconvert_exporter": "python",
   "pygments_lexer": "ipython2",
   "version": "2.7.11"
  }
 },
 "nbformat": 4,
 "nbformat_minor": 0
}
