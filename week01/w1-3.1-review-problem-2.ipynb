{
 "cells": [
  {
   "cell_type": "markdown",
   "metadata": {},
   "source": [
    "Name:\n",
    "People you worked with (if any):"
   ]
  },
  {
   "cell_type": "markdown",
   "metadata": {},
   "source": [
    "### Review Problem 2\n",
    "\n",
    "For this problem, you will be writing a function that operates on a dictionary and **optionally** a list of numbers.\n",
    "\n",
    "Write a function that:\n",
    "\n",
    "- Accepts a dictionary as its first argument. The values of the dictionary should be a list of numbers.\n",
    "- Accepts an optional **keyword argument** that is a list. The default should be an empty list. **The optional keyword list should be called remainder**\n",
    "- **If the list is empty:** append a 2 to the list.\n",
    "- Print the dictionary as well as the optional list.\n",
    "- Iterate though they key:value pairs in the dictionary:\n",
    "    - For each value list of numbers, calculate the **remainder of each number** for **each number in the remainder list**\n",
    "    - Create a dictionary where they keys are the numbers in the value list, and the values are the remainders of that number from the remainder list.\n",
    "    - ex: if value ```list == [10,9]``` and ```remainder == [2,3]```, the new dictionary would be: ```{10:[0, 1], 9:[1, 0]}```\n",
    "    - For the current key in the dictionary entered into the function, change the value to the new remainder dictionary.\n",
    "- Print out the new dictionary.\n",
    "- Return the dictionary.\n",
    "\n",
    "Notes/Hints:\n",
    "\n",
    "- keyword arguments are specified in functions like so: \n",
    "    ```python\n",
    "    def example_function(arg1, kwarg1=default_value):\n",
    "    ```\n",
    "- The operator for finding the remainder of two values is: ```%```\n",
    "    ```python\n",
    "    14 % 5 == 4\n",
    "    ```"
   ]
  },
  {
   "cell_type": "code",
   "execution_count": 3,
   "metadata": {
    "collapsed": false
   },
   "outputs": [],
   "source": [
    "test_dict = {'A':[1,2,3,4,5], 'B':[12.1, 14.2, 20.3, 25.4], 'C':[10, 25.5, 50.9, 101]}\n",
    "optional_remainder = [2,3,4,5]\n",
    "\n",
    "# 1. Run the function with the default keyword argument\n",
    "# 2. Run the function assigning the default keyword argument to the optional list"
   ]
  },
  {
   "cell_type": "code",
   "execution_count": 26,
   "metadata": {
    "collapsed": false
   },
   "outputs": [
    {
     "name": "stdout",
     "output_type": "stream",
     "text": [
      "{'A': [1, 2, 3, 4, 5], 'C': [10, 25.5, 50.9, 101], 'B': [12.1, 14.2, 20.3, 25.4]}\n",
      "[2, 3, 4, 5]\n"
     ]
    },
    {
     "data": {
      "text/plain": [
       "{1: 1.0,\n",
       " 2: 2.0,\n",
       " 3: 3.0,\n",
       " 4: 4.0,\n",
       " 5: 0.0,\n",
       " 10: 0.0,\n",
       " 12.1: 2.0999999999999996,\n",
       " 14.2: 4.199999999999999,\n",
       " 20.3: 0.3000000000000007,\n",
       " 25.4: 0.3999999999999986,\n",
       " 25.5: 0.5,\n",
       " 50.9: 0.8999999999999986,\n",
       " 101: 1.0}"
      ]
     },
     "execution_count": 26,
     "metadata": {},
     "output_type": "execute_result"
    }
   ],
   "source": [
    "import string\n",
    "\n",
    "def remainder_dict(dictionary, remainder=[]):\n",
    "    '''goal, i believe, is to take the dictionary and parse out each value, then get the remainder\n",
    "    of each of those for every remainder in the optional_remainder file and create a new dict with those\n",
    "    as the values. and if optional_remainder is blank, to run that value as a 2'''\n",
    "    \n",
    "    new_dict = {}\n",
    "    print dictionary\n",
    "    print remainder \n",
    "    \n",
    "    #it does not appear that this is working for the 'no value' in the remainder place. \n",
    "    if remainder == []:\n",
    "        remainder.extend(2)\n",
    "    else:\n",
    "        pass\n",
    "    \n",
    "    for k,v in test_dict.items():\n",
    "        for i in v:\n",
    "            #i believe that i need to create a new list to catalogue the values of i rather than\n",
    "            # holding onto the value of the first run and moving on. i thought that iterating through\n",
    "            # 'for i in v' would do this but it appears to only old on to 1 value.\n",
    "            for r in remainder:\n",
    "                new_dict[i] = float(i)%float(r)\n",
    "    \n",
    "    return new_dict                  \n",
    "        \n",
    "remainder_dict(test_dict, optional_remainder)\n",
    "    "
   ]
  },
  {
   "cell_type": "code",
   "execution_count": null,
   "metadata": {
    "collapsed": true
   },
   "outputs": [],
   "source": []
  }
 ],
 "metadata": {
  "kernelspec": {
   "display_name": "Python 2",
   "language": "python",
   "name": "python2"
  },
  "language_info": {
   "codemirror_mode": {
    "name": "ipython",
    "version": 2
   },
   "file_extension": ".py",
   "mimetype": "text/x-python",
   "name": "python",
   "nbconvert_exporter": "python",
   "pygments_lexer": "ipython2",
   "version": "2.7.11"
  }
 },
 "nbformat": 4,
 "nbformat_minor": 0
}
